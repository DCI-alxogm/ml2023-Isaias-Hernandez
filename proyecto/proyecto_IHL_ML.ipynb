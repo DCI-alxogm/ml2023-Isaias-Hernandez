{
  "nbformat": 4,
  "nbformat_minor": 0,
  "metadata": {
    "colab": {
      "provenance": [],
      "authorship_tag": "ABX9TyMu4EYuqZ0uye72yHD0euxI",
      "include_colab_link": true
    },
    "kernelspec": {
      "name": "python3",
      "display_name": "Python 3"
    },
    "language_info": {
      "name": "python"
    }
  },
  "cells": [
    {
      "cell_type": "markdown",
      "metadata": {
        "id": "view-in-github",
        "colab_type": "text"
      },
      "source": [
        "<a href=\"https://colab.research.google.com/github/DCI-alxogm/ml2023-Isaias-Hernandez/blob/main/proyecto/proyecto_IHL_ML.ipynb\" target=\"_parent\"><img src=\"https://colab.research.google.com/assets/colab-badge.svg\" alt=\"Open In Colab\"/></a>"
      ]
    },
    {
      "cell_type": "markdown",
      "source": [
        "# Proyecto -\n",
        "Por Isaías Hernández Lares - Machine learning 2023"
      ],
      "metadata": {
        "id": "uTAISwwwNwPx"
      }
    },
    {
      "cell_type": "code",
      "execution_count": null,
      "metadata": {
        "id": "u7J-0zjQNrxn"
      },
      "outputs": [],
      "source": []
    },
    {
      "cell_type": "markdown",
      "source": [
        "# Content:\n",
        "1. Carga de información\n",
        "\n",
        "* Importarción de librerías\n",
        "* Carga de datasets\n",
        "2. Revisión de la información\n",
        "\n",
        "* Estadística descriptiva\n",
        "* Valores faltantes\n",
        "3. Análisis exploratorio\n",
        "\n",
        "* Verificar la distribución de las clases\n",
        "* Verificar la distribución de las características\n",
        "* Verificar como características numéricas se relacionan con las clases\n",
        "4. Preparación del input de información\n",
        "\n",
        "* Limpieza de datos\n",
        "* Separación en X y Y\n",
        "* Entrenamiento, validación y pueba\n",
        "5. Construcción del modelo\n",
        "\n",
        "* Entrenamiento del modelo\n",
        "* Predicción del modelo\n",
        "* Evaluación del modelo\n",
        "6. Mejoramiento del modelo\n",
        "\n",
        "* Mejora de hiperparametros\n",
        "* Guardar el modelo final"
      ],
      "metadata": {
        "id": "DNTf5tBt_VbX"
      }
    },
    {
      "cell_type": "code",
      "source": [],
      "metadata": {
        "id": "2zeUpMiSDzgi"
      },
      "execution_count": null,
      "outputs": []
    },
    {
      "cell_type": "code",
      "source": [],
      "metadata": {
        "id": "E_L29e6nD2L8"
      },
      "execution_count": null,
      "outputs": []
    }
  ]
}