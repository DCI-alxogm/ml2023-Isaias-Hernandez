{
  "nbformat": 4,
  "nbformat_minor": 0,
  "metadata": {
    "colab": {
      "provenance": [],
      "authorship_tag": "ABX9TyMxNMBQAoyllJmI4UgO+dBC",
      "include_colab_link": true
    },
    "kernelspec": {
      "name": "python3",
      "display_name": "Python 3"
    },
    "language_info": {
      "name": "python"
    }
  },
  "cells": [
    {
      "cell_type": "markdown",
      "metadata": {
        "id": "view-in-github",
        "colab_type": "text"
      },
      "source": [
        "<a href=\"https://colab.research.google.com/github/DCI-alxogm/ml2023-Isaias-Hernandez/blob/main/proyecto/proyecto_IHL_ML.ipynb\" target=\"_parent\"><img src=\"https://colab.research.google.com/assets/colab-badge.svg\" alt=\"Open In Colab\"/></a>"
      ]
    },
    {
      "cell_type": "markdown",
      "source": [
        "# Proyecto - Clasificación de plantas por redes neuronales\n",
        "Por Isaías Hernández Lares - Machine learning 2023"
      ],
      "metadata": {
        "id": "uTAISwwwNwPx"
      }
    },
    {
      "cell_type": "code",
      "execution_count": null,
      "metadata": {
        "id": "u7J-0zjQNrxn"
      },
      "outputs": [],
      "source": []
    },
    {
      "cell_type": "markdown",
      "source": [
        "# Content:\n",
        "1. Carga de información\n",
        "\n",
        "* Importarción de librerías\n",
        "* Carga de datasets\n",
        "2. Revisión de la información\n",
        "\n",
        "\n",
        "\n",
        "3. Preparación del input de información\n",
        "\n",
        "* Limpieza de datos\n",
        "* Separación en X y Y\n",
        "* Entrenamiento, validación y pueba\n",
        "4. Construcción del modelo\n",
        "\n",
        "* Entrenamiento del modelo\n",
        "* Predicción del modelo\n",
        "* Evaluación del modelo\n",
        "5. Mejoramiento del modelo\n",
        "\n",
        "* Mejora de hiperparametros\n",
        "* Guardar el modelo final"
      ],
      "metadata": {
        "id": "DNTf5tBt_VbX"
      }
    },
    {
      "cell_type": "code",
      "source": [],
      "metadata": {
        "id": "2zeUpMiSDzgi"
      },
      "execution_count": null,
      "outputs": []
    },
    {
      "cell_type": "markdown",
      "source": [
        "## Importación de librerías"
      ],
      "metadata": {
        "id": "cN0mRAVJLBg5"
      }
    },
    {
      "cell_type": "code",
      "source": [
        "import numpy as np\n",
        "import pandas as pd\n",
        "import matplotlib.pyplot as plt\n",
        "import seaborn as sns\n",
        "import tensorflow as tf\n",
        "import keras\n",
        "from tensorflow.keras.models import Sequential\n",
        "from tensorflow.keras import layers\n",
        "from tensorflow.keras.layers import Dense,Dropout, Flatten\n",
        "from keras.optimizers import Adam\n",
        "from keras import regularizers"
      ],
      "metadata": {
        "id": "E_L29e6nD2L8"
      },
      "execution_count": 2,
      "outputs": []
    },
    {
      "cell_type": "markdown",
      "source": [
        "## Carga de datasets"
      ],
      "metadata": {
        "id": "la6SfCcKLK-0"
      }
    },
    {
      "cell_type": "code",
      "source": [
        "#Cargar imágenes en variables. Por simplicidad se aplanan antes o estaría interesante que la red reciba elementos de la forma (32, 32, n)"
      ],
      "metadata": {
        "id": "muNICfkwLAWK"
      },
      "execution_count": null,
      "outputs": []
    },
    {
      "cell_type": "markdown",
      "source": [
        "## Revisión de la infromación"
      ],
      "metadata": {
        "id": "JpJvnBLdLwhd"
      }
    },
    {
      "cell_type": "markdown",
      "source": [
        "To collect the images for 'Plants Type Dataset', a web crawler was programmed in Python to automatically search and download images from Google Images. The crawler was configured to search for specific plant class and plant type keywords and retrieve only high-quality images to ensure the dataset's reliability and usefulness. Once downloaded, the images were manually reviewed to remove any duplicates, irrelevant images, or low-quality images. The final dataset contains 30 plant classes and 7 plant types, with 30,000 images in total, each class containing 1,000 images."
      ],
      "metadata": {
        "id": "YaLv8KOMLyup"
      }
    },
    {
      "cell_type": "markdown",
      "source": [
        "Dado el origen de las imágenes debemos normalizarlas para alimentar a la red neuronal. Arbitrariamente se eleige que tengan dimensiones de 32 x 32 x 3 (posible cambio para mejorar rendimiento)."
      ],
      "metadata": {
        "id": "Hd1ada5cMajM"
      }
    },
    {
      "cell_type": "code",
      "source": [],
      "metadata": {
        "id": "J8xuhyLFLyUv"
      },
      "execution_count": null,
      "outputs": []
    },
    {
      "cell_type": "markdown",
      "source": [
        "## Preparación de los datos"
      ],
      "metadata": {
        "id": "zd7VU1AGNBgw"
      }
    },
    {
      "cell_type": "code",
      "source": [
        "\"\"\"\n",
        "\n",
        "train_x=[]\n",
        "train_y=[]\n",
        "for file in files[:500]:\n",
        "    img=Image.open(file)\n",
        "    img=img.resize((num_px,num_px))\n",
        "    data=np.asarray(img)\n",
        "    train_x.append(data)\n",
        "    img.close()\n",
        "    if 'dog' in file:\n",
        "        train_y.append(1)\n",
        "    if 'cat' in file:\n",
        "        train_y.append(0)\n",
        "train_y=np.asarray(train_y)\n",
        "train_x=np.asarray(train_x)\n",
        "\n",
        "\"\"\""
      ],
      "metadata": {
        "id": "FnayWID0NE1V"
      },
      "execution_count": null,
      "outputs": []
    },
    {
      "cell_type": "markdown",
      "source": [
        "## Construcción del modelo"
      ],
      "metadata": {
        "id": "myUJNzxmNTGG"
      }
    },
    {
      "cell_type": "code",
      "source": [
        "import tensorflow as tf\n",
        "from tensorflow.keras.models import Sequential\n",
        "from tensorflow.keras.layers import Dense, Flatten\n",
        "\n",
        "# Crear el modelo\n",
        "model = Sequential()\n",
        "\n",
        "# Aplanar la imagen de entrada 32x32x3 (3 canales para RGB)\n",
        "model.add(Flatten(input_shape=(32, 32, 3)))\n",
        "\n",
        "# Capa completamente conectada\n",
        "model.add(Dense(128, activation='relu'))  # 128 neuronas con activación ReLU\n",
        "model.add(Dense(64, activation='relu'))   # 64 neuronas con activación ReLU\n",
        "\n",
        "# Capa de salida para la clasificación de las 30 clases de frutas con activación softmax\n",
        "model.add(Dense(30, activation='softmax'))\n",
        "\n",
        "# Compilar el modelo\n",
        "model.compile(optimizer='adam', loss='categorical_crossentropy', metrics=['accuracy'])\n",
        "\n",
        "# Asegúrate de tener los datos de entrada y etiquetas adecuadas para el entrenamiento antes de ajustar el modelo.\n",
        "# Suponiendo que ya tienes los datos cargados y preparados en 'X_train' y 'y_train'\n",
        "model.fit(X_train, y_train, epochs=20, batch_size=32, validation_split=0.2)\n"
      ],
      "metadata": {
        "id": "lvPzCDKhNUsB"
      },
      "execution_count": null,
      "outputs": []
    },
    {
      "cell_type": "markdown",
      "source": [
        "## Mejoramiento del modelo"
      ],
      "metadata": {
        "id": "kz4VsdI9N2mN"
      }
    },
    {
      "cell_type": "code",
      "source": [],
      "metadata": {
        "id": "S4vUJ5w2N6C8"
      },
      "execution_count": null,
      "outputs": []
    }
  ]
}