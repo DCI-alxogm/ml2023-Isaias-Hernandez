{
  "nbformat": 4,
  "nbformat_minor": 0,
  "metadata": {
    "colab": {
      "provenance": [],
      "authorship_tag": "ABX9TyN9kQUSSjFezG4JEQ1xAex6",
      "include_colab_link": true
    },
    "kernelspec": {
      "name": "python3",
      "display_name": "Python 3"
    },
    "language_info": {
      "name": "python"
    }
  },
  "cells": [
    {
      "cell_type": "markdown",
      "metadata": {
        "id": "view-in-github",
        "colab_type": "text"
      },
      "source": [
        "<a href=\"https://colab.research.google.com/github/DCI-alxogm/ml2023-Isaias-Hernandez/blob/main/Sep29-30/MCMC_Metropoli_30_08_23.ipynb\" target=\"_parent\"><img src=\"https://colab.research.google.com/assets/colab-badge.svg\" alt=\"Open In Colab\"/></a>"
      ]
    },
    {
      "cell_type": "markdown",
      "source": [
        "# Monte Carlo Markov Chain Metropolis algorithm"
      ],
      "metadata": {
        "id": "Y3EkAx6OPhM2"
      }
    },
    {
      "cell_type": "markdown",
      "source": [
        "Por Isaias Hernández Lares"
      ],
      "metadata": {
        "id": "rPpVgktMPjNF"
      }
    },
    {
      "cell_type": "code",
      "execution_count": null,
      "metadata": {
        "id": "dUllrlOjusmx"
      },
      "outputs": [],
      "source": [
        "import numpy as np\n",
        "import random\n",
        "import matplotlib.pyplot as plt\n"
      ]
    },
    {
      "cell_type": "code",
      "source": [
        "datos = np.loadtxt(\"/content/drive/MyDrive/ML2023/olympic100m_men.txt\", delimiter=\",\")\n",
        "datos_x = datos[:, 0]\n",
        "datos_y = datos[:, 1]\n",
        "datos_x_norm = (datos_x - np.mean(datos_x))/(np.std(datos_x))\n",
        "datos_y_norm = (datos_y - np.mean(datos_y))/(np.std(datos_y))"
      ],
      "metadata": {
        "id": "qT_gmov3PP_5"
      },
      "execution_count": null,
      "outputs": []
    },
    {
      "cell_type": "code",
      "source": [
        "#Hacer que la pendiente sea negativa\n",
        "#Modelo\n",
        "def Modelo(x, theta):\n",
        "  y = theta[0] + theta[1]*x\n",
        "  return y\n",
        "\n",
        "#Para evaluar el likelihood\n",
        "def Log_Likelihood(x, y, theta, modelo):\n",
        "  likelihood = np.sum((y - modelo(x, theta))**2)\n",
        "  return likelihood\n",
        "\n",
        "#Para evaluar el prior\n",
        "def Log_Prior(theta, theta_min, theta_max):\n",
        "  prueba = 1\n",
        "  for i in range(len(theta)):\n",
        "    if theta[i] < theta_min[i] or theta[i] > theta_max[i]:\n",
        "      prueba *= 0\n",
        "  if prueba == 1:\n",
        "    prior = 0\n",
        "  else:\n",
        "    prior = -np.inf\n",
        "  return prior\n",
        "\n",
        "#Para evaluar el posterior\n",
        "def Log_Posterior(x, y, theta, modelo, theta_min, theta_max):\n",
        "  posterior = Log_Likelihood(x, y, theta, modelo) + Log_Prior(theta, theta_min, theta_max)\n",
        "  return posterior"
      ],
      "metadata": {
        "id": "Uv40zKlFPDsj"
      },
      "execution_count": null,
      "outputs": []
    },
    {
      "cell_type": "markdown",
      "source": [
        "# Definiendo la función del método MCM Metropoli"
      ],
      "metadata": {
        "id": "_noNMuciPINF"
      }
    },
    {
      "cell_type": "code",
      "source": [
        "def Metropoli(x, y, iteraciones, modelo, theta_min, theta_max, Log_Likelihood, Log_Prior, Log_Posterior):\n",
        "#Paso 1\n",
        "  theta_inicial = [32, -0.5]\n",
        "\n",
        "  #Paso 2\n",
        "  #Definir cosas\n",
        "  sigma1 = 0.05\n",
        "  sigma2 = 0.001\n",
        "  gaussian_rng = np.random.default_rng()\n",
        "  registro_aceptadas = []\n",
        "  #registro_rechazadas = []\n",
        "\n",
        "  #Ciclo for\n",
        "  for i in range(iteraciones):\n",
        "    theta_propuesta = [gaussian_rng.normal(theta_inicial[0], sigma1), gaussian_rng.normal(theta_inicial[1], sigma2)]\n",
        "\n",
        "  #Paso 3\n",
        "\n",
        "    posterior_propuesta = Log_Posterior(x, y, theta_propuesta, modelo, theta_min, theta_max)\n",
        "    posterior_inicial = Log_Posterior(x, y, theta_inicial, modelo, theta_min, theta_max)\n",
        "\n",
        "\n",
        "    if posterior_propuesta > posterior_inicial:\n",
        "      theta_inicial = theta_propuesta\n",
        "      registro_aceptadas.append(theta_propuesta)\n",
        "\n",
        "    else:\n",
        "      r = np.log(random.random())\n",
        "      if (posterior_propuesta - posterior_inicial) > r:\n",
        "        theta_inicial = theta_propuesta\n",
        "        registro_aceptadas.append(theta_propuesta)\n",
        "\n",
        "      else:\n",
        "        registro_aceptadas.append(theta_inicial)\n",
        "  return registro_aceptadas"
      ],
      "metadata": {
        "id": "OH9wVLhiPEGE"
      },
      "execution_count": null,
      "outputs": []
    },
    {
      "cell_type": "code",
      "source": [
        "#Definiendo variables\n",
        "theta_min = [0, -10]\n",
        "theta_max = [500, 0]\n",
        "\n",
        "thetas_buenos = Metropoli(datos_x_norm, datos_y_norm, 1000, Modelo, theta_min, theta_max, Log_Likelihood, Log_Prior, Log_Posterior)\n",
        "resultados = np.array(thetas_buenos)\n",
        "plt.scatter(resultados[:, 0], resultados[:,1])\n"
      ],
      "metadata": {
        "id": "O87YsgRLPXeo"
      },
      "execution_count": null,
      "outputs": []
    },
    {
      "cell_type": "code",
      "source": [],
      "metadata": {
        "id": "qdgcr5bFPaPF"
      },
      "execution_count": null,
      "outputs": []
    }
  ]
}