{
  "nbformat": 4,
  "nbformat_minor": 0,
  "metadata": {
    "colab": {
      "provenance": [],
      "authorship_tag": "ABX9TyPYelkxS8/Bv+Gq6GRrUvZb",
      "include_colab_link": true
    },
    "kernelspec": {
      "name": "python3",
      "display_name": "Python 3"
    },
    "language_info": {
      "name": "python"
    }
  },
  "cells": [
    {
      "cell_type": "markdown",
      "metadata": {
        "id": "view-in-github",
        "colab_type": "text"
      },
      "source": [
        "<a href=\"https://colab.research.google.com/github/DCI-alxogm/ml2023-Isaias-Hernandez/blob/main/Nov3-4/regresion_logistica.ipynb\" target=\"_parent\"><img src=\"https://colab.research.google.com/assets/colab-badge.svg\" alt=\"Open In Colab\"/></a>"
      ]
    },
    {
      "cell_type": "markdown",
      "source": [
        "# Redes Neuronales"
      ],
      "metadata": {
        "id": "GSanaxyv9Pop"
      }
    },
    {
      "cell_type": "markdown",
      "source": [
        "$\\hat{y}$ predicción es la probabilidad de que sea perro o gato dado el vector x, la información. $0 ≤ ̂y ≤ 1$ porque es una probabilidad. Viene dada por $ y = a = σ (w^T x + b) $. Entonces $z = (w^T x + b)$, $a = σ(z) = \\frac{1}{1+ e^{-z}}$.\n",
        "\n",
        "\n",
        "La función costo cambia. Deja de ser la diferencia al cuadrado. Ahora es:\n",
        "$$\n",
        "J(w, b) = \\frac{1}{m} Σ_{i=1}^{m} L(̂y^{(i)}, y^{(i)}) =a \\frac{1}{m} Σ[(y^{(i)})log(\\hat{y}^{(i)})+(1-y^{(i)})log(1-̂\\hat{y}^{(i)})]\n",
        "$$\n",
        "Función costo depende de los costos. Los costos tienen diferentes usos. Antes había una interpretación física\n",
        "\n",
        "Ejercicio: Demostrar que $dw = \\frac{1}{m} x dz$ y $db = \\frac{1}{m}dz$ creo que también $dz = a - y$. Los db son las derivadas de la función costo respecto a las variables. $\\frac{dJ}{dw} = dw, \\frac{dJ}{db} = db$\n",
        "\n",
        "\n",
        "La función costo no puede ser una escalón porque es necesario la derivada de ella.\n"
      ],
      "metadata": {
        "id": "3FbNdn6C9nWi"
      }
    },
    {
      "cell_type": "code",
      "source": [
        "\n",
        "import glob\n",
        "import numpy as np\n",
        "import copy\n",
        "import matplotlib.pyplot as plt\n",
        "import h5py\n",
        "import scipy\n",
        "from PIL import Image\n",
        "from scipy import ndimage\n",
        "import pdb\n",
        "%matplotlib inline"
      ],
      "metadata": {
        "id": "t_LU08xn9UBa"
      },
      "execution_count": 1,
      "outputs": []
    },
    {
      "cell_type": "code",
      "source": [
        "from google.colab import drive\n",
        "drive.mount('/content/drive')"
      ],
      "metadata": {
        "colab": {
          "base_uri": "https://localhost:8080/"
        },
        "id": "RZ_vOYcIFDOz",
        "outputId": "340d9057-2b60-4ea5-e65c-c659ae52f3b8"
      },
      "execution_count": 2,
      "outputs": [
        {
          "output_type": "stream",
          "name": "stdout",
          "text": [
            "Mounted at /content/drive\n"
          ]
        }
      ]
    },
    {
      "cell_type": "markdown",
      "source": [
        "Cargamos los datos que vamos a trabajar."
      ],
      "metadata": {
        "id": "ynxugRO-Fbyh"
      }
    },
    {
      "cell_type": "code",
      "source": [
        "#Los datos corresponden a un subset del dataset cats vs dogs de https://www.kaggle.com/c/dogs-vs-cats\n",
        "#files=glob.glob('/content/drive/MyDrive/DCI_data/ML2023/CAT_DOG/train/*')\n",
        "files=glob.glob(\"/content/drive/MyDrive/ML2023/CATS_DOGS/*\")"
      ],
      "metadata": {
        "id": "7p1QbNBdFDMN"
      },
      "execution_count": 3,
      "outputs": []
    },
    {
      "cell_type": "code",
      "source": [
        "len(files)"
      ],
      "metadata": {
        "colab": {
          "base_uri": "https://localhost:8080/"
        },
        "id": "uHAUi-L-FDJy",
        "outputId": "d83dae14-166e-435b-c05d-e67f3d328872"
      },
      "execution_count": 4,
      "outputs": [
        {
          "output_type": "execute_result",
          "data": {
            "text/plain": [
              "1787"
            ]
          },
          "metadata": {},
          "execution_count": 4
        }
      ]
    },
    {
      "cell_type": "code",
      "source": [
        "#numero de pixeles para nuestras imágenes.\n",
        "num_px=64"
      ],
      "metadata": {
        "id": "-1kyvjyMFDIA"
      },
      "execution_count": 5,
      "outputs": []
    },
    {
      "cell_type": "markdown",
      "source": [
        "Veamos algunas de las imagenes"
      ],
      "metadata": {
        "id": "_gZsT0Y3FgGn"
      }
    },
    {
      "cell_type": "markdown",
      "source": [
        "Preparamos el dataset de entrenamiento.\n",
        "\n"
      ],
      "metadata": {
        "id": "D4lMB777Ff_F"
      }
    },
    {
      "cell_type": "code",
      "source": [
        "train_x=[]\n",
        "train_y=[]\n",
        "for file in files[:100]:\n",
        "    img=Image.open(file)\n",
        "    img=img.resize((num_px,num_px))\n",
        "    data=np.asarray(img)\n",
        "    train_x.append(data)\n",
        "    img.close()\n",
        "    if 'dog' in file:\n",
        "        train_y.append(1)\n",
        "    if 'cat' in file:\n",
        "        train_y.append(0)\n",
        "train_y=np.asarray(train_y)\n",
        "train_x=np.asarray(train_x)"
      ],
      "metadata": {
        "id": "EaIPl6QWFDFl"
      },
      "execution_count": 6,
      "outputs": []
    },
    {
      "cell_type": "code",
      "source": [
        "plt.imshow(train_x[0])\n"
      ],
      "metadata": {
        "colab": {
          "base_uri": "https://localhost:8080/",
          "height": 449
        },
        "id": "9OFQOPhWFDEE",
        "outputId": "94e3dfe8-9dbf-456b-da90-ae5a26197fe9"
      },
      "execution_count": 7,
      "outputs": [
        {
          "output_type": "execute_result",
          "data": {
            "text/plain": [
              "<matplotlib.image.AxesImage at 0x7c00915366b0>"
            ]
          },
          "metadata": {},
          "execution_count": 7
        },
        {
          "output_type": "display_data",
          "data": {
            "text/plain": [
              "<Figure size 640x480 with 1 Axes>"
            ],
            "image/png": "[encoded data removed]"
          },
          "metadata": {}
        }
      ]
    },
    {
      "cell_type": "markdown",
      "source": [
        "Preparamos el dataset de prueba"
      ],
      "metadata": {
        "id": "pistPX5aFoU0"
      }
    },
    {
      "cell_type": "code",
      "source": [
        "test_x=[]\n",
        "test_y=[]\n",
        "#for file in files[4300:]:\n",
        "for file in files:\n",
        "    #print(file)\n",
        "    img=Image.open(file)\n",
        "    img=img.resize((num_px,num_px))\n",
        "    data=np.asarray(img)\n",
        "    test_x.append(data)\n",
        "    img.close()\n",
        "    if 'dog' in file:\n",
        "        test_y.append(1)\n",
        "    if 'cat' in file:\n",
        "        test_y.append(0)\n",
        "test_y=np.asarray(test_y)\n",
        "test_x=np.asarray(test_x)"
      ],
      "metadata": {
        "id": "8ze6a72QFS0F"
      },
      "execution_count": 8,
      "outputs": []
    },
    {
      "cell_type": "code",
      "source": [
        "plt.imshow(test_x[1])"
      ],
      "metadata": {
        "colab": {
          "base_uri": "https://localhost:8080/",
          "height": 449
        },
        "id": "yN1qN1PzFSxO",
        "outputId": "402e632d-adea-4c55-de82-22615f28e1a1"
      },
      "execution_count": 9,
      "outputs": [
        {
          "output_type": "execute_result",
          "data": {
            "text/plain": [
              "<matplotlib.image.AxesImage at 0x7c009143c640>"
            ]
          },
          "metadata": {},
          "execution_count": 9
        },
        {
          "output_type": "display_data",
          "data": {
            "text/plain": [
              "<Figure size 640x480 with 1 Axes>"
            ],
            "image/png": "[encoded data removed]"
          },
          "metadata": {}
        }
      ]
    },
    {
      "cell_type": "markdown",
      "source": [
        "Hacemos una transformación de los arreglos que contienen las imagenes para que sean arreglos de una dimensión."
      ],
      "metadata": {
        "id": "kiqhkJiYFwKx"
      }
    },
    {
      "cell_type": "code",
      "source": [
        "train_x_flatten = train_x.reshape(train_x.shape[0], -1).T\n",
        "\n",
        "test_x_flatten = test_x.reshape(test_x.shape[0], -1).T\n",
        "\n",
        "train_set_y=train_y.reshape((1,train_y.shape[0]))\n",
        "test_set_y=test_y.reshape((1,test_y.shape[0]))"
      ],
      "metadata": {
        "id": "fKY7VrqlFDC_"
      },
      "execution_count": 10,
      "outputs": []
    },
    {
      "cell_type": "markdown",
      "source": [
        "Normalizamos las imágenes"
      ],
      "metadata": {
        "id": "IDUVYl9YF3mi"
      }
    },
    {
      "cell_type": "code",
      "source": [
        "train_set_x= train_x_flatten/255\n",
        "test_set_x= test_x_flatten/255"
      ],
      "metadata": {
        "id": "9IUX3j9IFC-l"
      },
      "execution_count": 11,
      "outputs": []
    },
    {
      "cell_type": "markdown",
      "source": [
        "--------------------"
      ],
      "metadata": {
        "id": "mi5nUTzkWP4L"
      }
    },
    {
      "cell_type": "code",
      "source": [
        "def que_es(x):\n",
        "  print(\"tipo: \", type(x))\n",
        "  print(\"shape: \", np.shape(x))\n",
        "  print(\"\\n\")\n",
        "\n",
        "que_es(train_set_x)\n",
        "que_es(train_set_y)"
      ],
      "metadata": {
        "colab": {
          "base_uri": "https://localhost:8080/"
        },
        "id": "7x76toBNQOYT",
        "outputId": "3af3a11d-5450-4296-bbbc-d579cf4d64df"
      },
      "execution_count": 14,
      "outputs": [
        {
          "output_type": "stream",
          "name": "stdout",
          "text": [
            "tipo:  <class 'numpy.ndarray'>\n",
            "shape:  (12288, 100)\n",
            "\n",
            "\n",
            "tipo:  <class 'numpy.ndarray'>\n",
            "shape:  (1, 100)\n",
            "\n",
            "\n"
          ]
        }
      ]
    },
    {
      "cell_type": "markdown",
      "source": [
        "Cada elemento del array es un arreglo de todos los valores de los pixeles de la imagen, es decir (alto x ancho x 3). Son 100 elementos porque utilizamos 100 imágenes."
      ],
      "metadata": {
        "id": "S5MIfMiNTDwu"
      }
    },
    {
      "cell_type": "markdown",
      "source": [
        "Ya esta listo nuestro set de datos para poder trabajar con el."
      ],
      "metadata": {
        "id": "k7_0oaq7F5y0"
      }
    },
    {
      "cell_type": "markdown",
      "source": [
        "___________________________\n",
        "\n",
        "1.   Pesos iniciales\n",
        "2.   Calcular Z con los pesos\n",
        "3.   Aplicar la sigmoide a z, lo que me da y\n",
        "4.   Con y obtener el costo y sus derivadas\n",
        "5.   Actualizar los costos\n"
      ],
      "metadata": {
        "id": "pJnw9nk9G5OU"
      }
    },
    {
      "cell_type": "markdown",
      "source": [
        "$$\n",
        "z = W^T x + b\n",
        "$$\n"
      ],
      "metadata": {
        "id": "TG1RtcE9HHGo"
      }
    },
    {
      "cell_type": "code",
      "source": [
        "x = train_set_x\n",
        "y = train_set_y\n",
        "w = np.zeros((np.shape(train_set_x)[0]))\n",
        "wt = w.T\n",
        "\n",
        "m = train_set_y.shape[1]\n",
        "b = 0"
      ],
      "metadata": {
        "id": "sST4GcbHXWLv"
      },
      "execution_count": 54,
      "outputs": []
    },
    {
      "cell_type": "code",
      "source": [
        "que_es(wt)"
      ],
      "metadata": {
        "id": "S3Dpixk1CDyk",
        "outputId": "d6b4f61d-6186-4fb7-82f4-eb1b8bd10152",
        "colab": {
          "base_uri": "https://localhost:8080/"
        }
      },
      "execution_count": 39,
      "outputs": [
        {
          "output_type": "stream",
          "name": "stdout",
          "text": [
            "tipo:  <class 'numpy.ndarray'>\n",
            "shape:  (12288,)\n",
            "\n",
            "\n"
          ]
        }
      ]
    },
    {
      "cell_type": "code",
      "source": [
        "def Z(w, x, b):\n",
        "  z = (w.T @ x) + b\n",
        "  return z"
      ],
      "metadata": {
        "id": "l76DS_eaHFJ7"
      },
      "execution_count": 83,
      "outputs": []
    },
    {
      "cell_type": "markdown",
      "source": [
        "$$\n",
        "σ(z) = \\frac{1}{1+ e^{-z}}\n",
        "$$"
      ],
      "metadata": {
        "id": "Y-ThP3HsJSt7"
      }
    },
    {
      "cell_type": "code",
      "source": [
        "def sigmoide(z):\n",
        "  a = 1 / (1 + np.exp(-z))\n",
        "  return a"
      ],
      "metadata": {
        "id": "eyEZtzEZJSDU"
      },
      "execution_count": 43,
      "outputs": []
    },
    {
      "cell_type": "markdown",
      "source": [
        "$$\n",
        "y = σ(z)\n",
        "$$"
      ],
      "metadata": {
        "id": "Rbs96738Nvc1"
      }
    },
    {
      "cell_type": "code",
      "source": [
        "y_hat = sigmoide(z)\n",
        "y_hat.shape"
      ],
      "metadata": {
        "id": "aVBbJQHGJing",
        "outputId": "e006c638-7424-480a-b583-82e039fc8fea",
        "colab": {
          "base_uri": "https://localhost:8080/"
        }
      },
      "execution_count": 48,
      "outputs": [
        {
          "output_type": "execute_result",
          "data": {
            "text/plain": [
              "(100,)"
            ]
          },
          "metadata": {},
          "execution_count": 48
        }
      ]
    },
    {
      "cell_type": "markdown",
      "source": [
        "$$\n",
        "J(w, b) = -\\frac{1}{m} Σ_{i=1}^{m} L(̂y^{(i)}, y^{(i)}) =- \\frac{1}{m} Σ_{i=1}^{m}[(y^{(i)})log(\\hat{y}^{(i)})+(1-y^{(i)})log(1-̂\\hat{y}^{(i)})]\n",
        "$$"
      ],
      "metadata": {
        "id": "FQkeyTPrLFT2"
      }
    },
    {
      "cell_type": "code",
      "source": [
        "def costo(y, y_hat, w, b):\n",
        "  j = - (1/m) * np.sum(y * np.log(y_hat) + (1 - y) * np.log(1-y_hat))\n",
        "  return j\n",
        "cost = costo(train_set_y, y_hat, w, b)\n",
        "cost"
      ],
      "metadata": {
        "id": "v0837_HALUJs",
        "outputId": "61b1a260-86b0-4d20-d519-9e26d6351305",
        "colab": {
          "base_uri": "https://localhost:8080/"
        }
      },
      "execution_count": 52,
      "outputs": [
        {
          "output_type": "execute_result",
          "data": {
            "text/plain": [
              "0.6931471805599453"
            ]
          },
          "metadata": {},
          "execution_count": 52
        }
      ]
    },
    {
      "cell_type": "markdown",
      "source": [
        "\n",
        "$$\n",
        "dw = \\frac{1}{m}x dz\n",
        "$$\n",
        "$$\n",
        "db = \\frac{1}{m}dz\n",
        "$$\n",
        "$$\n",
        "dz = a - y, \\hat{y} = a\n",
        "$$"
      ],
      "metadata": {
        "id": "hpiiAYGMMTDp"
      }
    },
    {
      "cell_type": "code",
      "source": [
        "dz = y_hat - y[0,:]\n",
        "dw = 1/m * x @ dz\n",
        "db = 1/m * dz"
      ],
      "metadata": {
        "id": "xmh9iGt4Mqo0"
      },
      "execution_count": 76,
      "outputs": []
    },
    {
      "cell_type": "code",
      "source": [
        "db"
      ],
      "metadata": {
        "id": "Y_1x6wBGN7od",
        "outputId": "2b14a360-1b64-46cd-f3a6-9004a9ef5013",
        "colab": {
          "base_uri": "https://localhost:8080/"
        }
      },
      "execution_count": 97,
      "outputs": [
        {
          "output_type": "execute_result",
          "data": {
            "text/plain": [
              "array([-0.005, -0.005, -0.005, -0.005, -0.005, -0.005, -0.005,  0.005,\n",
              "       -0.005, -0.005, -0.005, -0.005, -0.005,  0.005, -0.005, -0.005,\n",
              "       -0.005, -0.005, -0.005, -0.005, -0.005, -0.005, -0.005,  0.005,\n",
              "        0.005,  0.005, -0.005, -0.005, -0.005, -0.005, -0.005, -0.005,\n",
              "       -0.005, -0.005, -0.005, -0.005, -0.005, -0.005,  0.005, -0.005,\n",
              "       -0.005, -0.005, -0.005, -0.005, -0.005, -0.005, -0.005, -0.005,\n",
              "       -0.005, -0.005, -0.005,  0.005, -0.005, -0.005, -0.005,  0.005,\n",
              "       -0.005, -0.005, -0.005, -0.005, -0.005, -0.005, -0.005, -0.005,\n",
              "       -0.005, -0.005, -0.005, -0.005, -0.005, -0.005, -0.005, -0.005,\n",
              "       -0.005, -0.005, -0.005,  0.005, -0.005,  0.005, -0.005,  0.005,\n",
              "        0.005, -0.005, -0.005, -0.005, -0.005, -0.005, -0.005, -0.005,\n",
              "       -0.005, -0.005,  0.005, -0.005,  0.005, -0.005, -0.005, -0.005,\n",
              "        0.005, -0.005, -0.005, -0.005])"
            ]
          },
          "metadata": {},
          "execution_count": 97
        }
      ]
    },
    {
      "cell_type": "markdown",
      "source": [
        "$$\n",
        "w = w - \\alpha \\frac{\\partial J}{\\partial w} = w - \\alpha dw\n",
        "$$\n",
        "\n",
        "\n",
        "$$\n",
        "b = b - \\alpha \\frac{\\partial J}{\\partial b} = b - \\alpha db\n",
        "$$\n",
        "\n",
        "$\\alpha$ = learning rate"
      ],
      "metadata": {
        "id": "kNlFkyoOM2B3"
      }
    },
    {
      "cell_type": "code",
      "source": [
        "alpha = 0.5\n",
        "w = w - alpha * dw\n",
        "b = b - alpha * db"
      ],
      "metadata": {
        "id": "-Lgc2JhrM1Yo"
      },
      "execution_count": 78,
      "outputs": []
    },
    {
      "cell_type": "markdown",
      "source": [
        "Algoritmo de la regresión logistica  (o red neuronal sencilla)"
      ],
      "metadata": {
        "id": "IQw7a_O1PwOX"
      }
    },
    {
      "cell_type": "code",
      "source": [
        "def desc_grad(x, y, w, b, alpha, iteraciones):\n",
        "  m = y.shape[1]\n",
        "  y = y[0,:]\n",
        "  costos = []\n",
        "  for i in range(iteraciones):\n",
        "    z = Z(w.T, x, b)\n",
        "    y_hat = sigmoide(z)\n",
        "    cost = costo(train_set_y, y_hat, w, b)\n",
        "    costos.append(cost)\n",
        "    dz = y_hat - y\n",
        "\n",
        "    dw = 1/m * x @ dz\n",
        "    db = 1/m * dz\n",
        "\n",
        "    w = w - alpha * dw\n",
        "    b = b - alpha * db\n",
        "    b = b.mean()\n",
        "  salida = {\"w\":w, \"b\":b, \"costos\":costos}\n",
        "  return salida\n"
      ],
      "metadata": {
        "id": "dXV606eCPlfE"
      },
      "execution_count": 126,
      "outputs": []
    },
    {
      "cell_type": "code",
      "source": [
        "x = train_set_x\n",
        "y = train_set_y\n",
        "w = np.zeros((np.shape(train_set_x)[0]))\n",
        "b = 0\n",
        "\n",
        "salida = desc_grad(x, y, w, b, alpha=0.005, iteraciones=1000)"
      ],
      "metadata": {
        "id": "05hwFuIWMpGB"
      },
      "execution_count": 127,
      "outputs": []
    },
    {
      "cell_type": "code",
      "source": [
        "plt.plot(salida[\"costos\"])"
      ],
      "metadata": {
        "id": "tb3m5AwDNH_-",
        "outputId": "26ba5064-8dc5-4a3d-9721-bc01d03c0af8",
        "colab": {
          "base_uri": "https://localhost:8080/",
          "height": 447
        }
      },
      "execution_count": 117,
      "outputs": [
        {
          "output_type": "execute_result",
          "data": {
            "text/plain": [
              "[<matplotlib.lines.Line2D at 0x7c0072a9f220>]"
            ]
          },
          "metadata": {},
          "execution_count": 117
        },
        {
          "output_type": "display_data",
          "data": {
            "text/plain": [
              "<Figure size 640x480 with 1 Axes>"
            ],
            "image/png": "[encoded data removed]"
          },
          "metadata": {}
        }
      ]
    },
    {
      "cell_type": "code",
      "source": [
        "test_set_x.shape"
      ],
      "metadata": {
        "id": "0FOn6bNnRnzL",
        "outputId": "b96578a3-86a3-44bb-c4db-db75c25692df",
        "colab": {
          "base_uri": "https://localhost:8080/"
        }
      },
      "execution_count": 133,
      "outputs": [
        {
          "output_type": "execute_result",
          "data": {
            "text/plain": [
              "(12288, 1787)"
            ]
          },
          "metadata": {},
          "execution_count": 133
        }
      ]
    },
    {
      "cell_type": "code",
      "source": [
        "# validacion conjunto de validacion"
      ],
      "metadata": {
        "id": "M-xrvICscALv"
      },
      "execution_count": 118,
      "outputs": []
    },
    {
      "cell_type": "code",
      "source": [
        "def perceptron(x_train, y_train, x_test, y_test, w, b, learning_rate, iteraciones):\n",
        "  w = np.zeros((np.shape(train_set_x)[0]))\n",
        "  b = 0\n",
        "\n",
        "  salida = desc_grad(x_train, y_train, w, b, alpha=0.005, iteraciones=1000)\n",
        "\n",
        "  w = np.array(salida[\"w\"])\n",
        "  b = salida[\"b\"]\n",
        "\n",
        "  z = Z(w, x_train, b)\n",
        "  z = np.array(z)\n",
        "  y_pre1 = sigmoide(z)\n",
        "  y_pre1 = np.round(y_pre1)\n",
        "\n",
        "  z = Z(w, x_test, b)\n",
        "  z = np.array(z)\n",
        "  y_pre2 = sigmoide(z)\n",
        "  y_pre2 = np.round(y_pre2)\n",
        "\n",
        "  print(\"Precisión del conjunto de entrenamiento: \", np.sum(y_train == y_pre1)/y_train.shape[1])\n",
        "  print(\"Precisión del conjunto de prueba: \", np.sum(y_test == y_pre2)/y_test.shape[1])\n",
        "  return salida"
      ],
      "metadata": {
        "id": "0M57hDSHO5ec"
      },
      "execution_count": 151,
      "outputs": []
    },
    {
      "cell_type": "code",
      "source": [
        "w = np.zeros((np.shape(train_set_x)[0]))\n",
        "b = 0\n",
        "\n",
        "_ = perceptron(train_set_x, train_set_y, test_set_x, test_set_y, w, b, learning_rate=0.005, iteraciones=1000)"
      ],
      "metadata": {
        "id": "MX4AASRxSHyh",
        "outputId": "b571bd20-5a63-435a-ab01-2591142a8538",
        "colab": {
          "base_uri": "https://localhost:8080/"
        }
      },
      "execution_count": 152,
      "outputs": [
        {
          "output_type": "stream",
          "name": "stdout",
          "text": [
            "Precisión del conjunto de entrenamiento:  1.0\n",
            "Precisión del conjunto de prueba:  0.5249020705092333\n"
          ]
        }
      ]
    },
    {
      "cell_type": "code",
      "source": [],
      "metadata": {
        "id": "VO37LbGgSmat"
      },
      "execution_count": null,
      "outputs": []
    }
  ]
}