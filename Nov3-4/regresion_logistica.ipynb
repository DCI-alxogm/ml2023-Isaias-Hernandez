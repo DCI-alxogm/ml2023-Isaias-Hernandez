{
  "nbformat": 4,
  "nbformat_minor": 0,
  "metadata": {
    "colab": {
      "provenance": [],
      "authorship_tag": "ABX9TyMbdYwMs/QKkk/e6raNSxmU",
      "include_colab_link": true
    },
    "kernelspec": {
      "name": "python3",
      "display_name": "Python 3"
    },
    "language_info": {
      "name": "python"
    }
  },
  "cells": [
    {
      "cell_type": "markdown",
      "metadata": {
        "id": "view-in-github",
        "colab_type": "text"
      },
      "source": [
        "<a href=\"https://colab.research.google.com/github/DCI-alxogm/ml2023-Isaias-Hernandez/blob/main/Nov3-4/regresion_logistica.ipynb\" target=\"_parent\"><img src=\"https://colab.research.google.com/assets/colab-badge.svg\" alt=\"Open In Colab\"/></a>"
      ]
    },
    {
      "cell_type": "markdown",
      "source": [
        "# Redes Neuronales"
      ],
      "metadata": {
        "id": "GSanaxyv9Pop"
      }
    },
    {
      "cell_type": "markdown",
      "source": [
        "\n",
        "\n",
        "1.   Separar conjunto de entrenamiento y pruebas\n",
        "\n",
        "2.   List item\n",
        "\n",
        "\n",
        "$\\hat{y}$ predicción es la probabilidad de que sea perro o gato dado el vector x, la información. $0 ≤ ̂y ≤ 1$ porque es una probabilidad. Viene dada por $ y = a = σ (w^T x + b) $. Entonces $z = (w^T x + b)$, $a = σ(z) = \\frac{1}{1+ e^{-z}}$.\n",
        "\n",
        "La función costo cambia. Deja de ser la diferencia al cuadrado. Ahora es:\n",
        "$$\n",
        "J(w, b) = \\frac{1}{m} Σ_{i=1}^{m} L(̂y^{(i)}, y^{(i)}) =a \\frac{1}{m} Σ[(y^{(i)})log(\\hat{y}^{(i)})+(1-y^{(i)})log(1-̂\\hat{y}^{(i)})]\n",
        "$$\n",
        "Función costo depende de los costos. Los costos tienen diferentes usos. Antes había una interpretación física\n",
        "\n",
        "Ejercicio: Demostrar que $dw = \\frac{1}{m} x dz$ y $db = \\frac{1}{m}dz$ creo que también $dz = a - y$. Los db son las derivadas de la función costo respecto a las variables. $\\frac{dJ}{dw} = dw, \\frac{dJ}{db} = db$\n",
        "\n",
        "La función costo no puede ser una escalón porque es necesario la derivada de ella.\n",
        "\n",
        "Ejercicio para hoy: Programar un perceptrón para clasificar perros y gatos dado un conjunto de datos.\n",
        "\n",
        "Pesos iniciales, calcula z, aplica valor sigmoide, obtienes y y calculas y, calculas los costos, actualiza\n",
        "\n",
        "\n"
      ],
      "metadata": {
        "id": "3FbNdn6C9nWi"
      }
    },
    {
      "cell_type": "code",
      "source": [
        "\n",
        "import glob\n",
        "import numpy as np\n",
        "import copy\n",
        "import matplotlib.pyplot as plt\n",
        "import h5py\n",
        "import scipy\n",
        "from PIL import Image\n",
        "from scipy import ndimage\n",
        "import pdb\n",
        "%matplotlib inline"
      ],
      "metadata": {
        "id": "t_LU08xn9UBa"
      },
      "execution_count": 1,
      "outputs": []
    },
    {
      "cell_type": "code",
      "source": [
        "from google.colab import drive\n",
        "drive.mount('/content/drive')"
      ],
      "metadata": {
        "colab": {
          "base_uri": "https://localhost:8080/"
        },
        "id": "RZ_vOYcIFDOz",
        "outputId": "23179947-b7e6-4026-a331-8647232e75ed"
      },
      "execution_count": 2,
      "outputs": [
        {
          "output_type": "stream",
          "name": "stdout",
          "text": [
            "Drive already mounted at /content/drive; to attempt to forcibly remount, call drive.mount(\"/content/drive\", force_remount=True).\n"
          ]
        }
      ]
    },
    {
      "cell_type": "markdown",
      "source": [
        "Cargamos los datos que vamos a trabajar."
      ],
      "metadata": {
        "id": "ynxugRO-Fbyh"
      }
    },
    {
      "cell_type": "code",
      "source": [
        "#Los datos corresponden a un subset del dataset cats vs dogs de https://www.kaggle.com/c/dogs-vs-cats\n",
        "#files=glob.glob('/content/drive/MyDrive/DCI_data/ML2023/CAT_DOG/train/*')\n",
        "files=glob.glob(\"/content/drive/MyDrive/ML2023/CATS_DOGS/*\")"
      ],
      "metadata": {
        "id": "7p1QbNBdFDMN"
      },
      "execution_count": 3,
      "outputs": []
    },
    {
      "cell_type": "code",
      "source": [
        "len(files)"
      ],
      "metadata": {
        "colab": {
          "base_uri": "https://localhost:8080/"
        },
        "id": "uHAUi-L-FDJy",
        "outputId": "0f923366-4ca7-4202-ed2a-94952c9204cb"
      },
      "execution_count": 4,
      "outputs": [
        {
          "output_type": "execute_result",
          "data": {
            "text/plain": [
              "1787"
            ]
          },
          "metadata": {},
          "execution_count": 4
        }
      ]
    },
    {
      "cell_type": "code",
      "source": [
        "#numero de pixeles para nuestras imágenes.\n",
        "num_px=64"
      ],
      "metadata": {
        "id": "-1kyvjyMFDIA"
      },
      "execution_count": 5,
      "outputs": []
    },
    {
      "cell_type": "markdown",
      "source": [
        "Veamos algunas de las imagenes"
      ],
      "metadata": {
        "id": "_gZsT0Y3FgGn"
      }
    },
    {
      "cell_type": "markdown",
      "source": [
        "Preparamos el dataset de entrenamiento.\n",
        "\n"
      ],
      "metadata": {
        "id": "D4lMB777Ff_F"
      }
    },
    {
      "cell_type": "code",
      "source": [
        "train_x=[]\n",
        "train_y=[]\n",
        "for file in files[:100]:\n",
        "    img=Image.open(file)\n",
        "    img=img.resize((num_px,num_px))\n",
        "    data=np.asarray(img)\n",
        "    train_x.append(data)\n",
        "    img.close()\n",
        "    if 'dog' in file:\n",
        "        train_y.append(1)\n",
        "    if 'cat' in file:\n",
        "        train_y.append(0)\n",
        "train_y=np.asarray(train_y)\n",
        "train_x=np.asarray(train_x)"
      ],
      "metadata": {
        "id": "EaIPl6QWFDFl"
      },
      "execution_count": 6,
      "outputs": []
    },
    {
      "cell_type": "code",
      "source": [
        "plt.imshow(train_x[0])\n"
      ],
      "metadata": {
        "colab": {
          "base_uri": "https://localhost:8080/",
          "height": 449
        },
        "id": "9OFQOPhWFDEE",
        "outputId": "f522d252-3eaa-45b2-9756-4136da91a089"
      },
      "execution_count": 7,
      "outputs": [
        {
          "output_type": "execute_result",
          "data": {
            "text/plain": [
              "<matplotlib.image.AxesImage at 0x792e53c3a110>"
            ]
          },
          "metadata": {},
          "execution_count": 7
        },
        {
          "output_type": "display_data",
          "data": {
            "text/plain": [
              "<Figure size 640x480 with 1 Axes>"
            ],
            "image/png": "[encoded data removed]"
          },
          "metadata": {}
        }
      ]
    },
    {
      "cell_type": "markdown",
      "source": [
        "Preparamos el dataset de prueba"
      ],
      "metadata": {
        "id": "pistPX5aFoU0"
      }
    },
    {
      "cell_type": "code",
      "source": [
        "test_x=[]\n",
        "test_y=[]\n",
        "#for file in files[4300:]:\n",
        "for file in files:\n",
        "    #print(file)\n",
        "    img=Image.open(file)\n",
        "    img=img.resize((num_px,num_px))\n",
        "    data=np.asarray(img)\n",
        "    test_x.append(data)\n",
        "    img.close()\n",
        "    if 'dog' in file:\n",
        "        test_y.append(1)\n",
        "    if 'cat' in file:\n",
        "        test_y.append(0)\n",
        "test_y=np.asarray(test_y)\n",
        "test_x=np.asarray(test_x)"
      ],
      "metadata": {
        "id": "8ze6a72QFS0F"
      },
      "execution_count": 8,
      "outputs": []
    },
    {
      "cell_type": "code",
      "source": [
        "plt.imshow(test_x[1])"
      ],
      "metadata": {
        "colab": {
          "base_uri": "https://localhost:8080/",
          "height": 449
        },
        "id": "yN1qN1PzFSxO",
        "outputId": "b9eb91b7-ccfd-4349-c415-0c07390c57d2"
      },
      "execution_count": 9,
      "outputs": [
        {
          "output_type": "execute_result",
          "data": {
            "text/plain": [
              "<matplotlib.image.AxesImage at 0x792e53b5d990>"
            ]
          },
          "metadata": {},
          "execution_count": 9
        },
        {
          "output_type": "display_data",
          "data": {
            "text/plain": [
              "<Figure size 640x480 with 1 Axes>"
            ],
            "image/png": "[encoded data removed]"
          },
          "metadata": {}
        }
      ]
    },
    {
      "cell_type": "markdown",
      "source": [
        "Hacemos una transformación de los arreglos que contienen las imagenes para que sean arreglos de una dimensión."
      ],
      "metadata": {
        "id": "kiqhkJiYFwKx"
      }
    },
    {
      "cell_type": "code",
      "source": [
        "train_x_flatten = train_x.reshape(train_x.shape[0], -1).T\n",
        "\n",
        "test_x_flatten = test_x.reshape(test_x.shape[0], -1).T\n",
        "\n",
        "train_set_y=train_y.reshape((1,train_y.shape[0]))\n",
        "test_set_y=test_y.reshape((1,test_y.shape[0]))"
      ],
      "metadata": {
        "id": "fKY7VrqlFDC_"
      },
      "execution_count": 10,
      "outputs": []
    },
    {
      "cell_type": "markdown",
      "source": [
        "Normalizamos las imágenes"
      ],
      "metadata": {
        "id": "IDUVYl9YF3mi"
      }
    },
    {
      "cell_type": "code",
      "source": [
        "train_set_x= train_x_flatten/255\n",
        "test_set_x= test_x_flatten/255"
      ],
      "metadata": {
        "id": "9IUX3j9IFC-l"
      },
      "execution_count": 11,
      "outputs": []
    },
    {
      "cell_type": "code",
      "source": [
        "def que_es(x):\n",
        "  print(\"tipo: \", type(train_set_x))\n",
        "  print(\"shape: \", np.shape(train_set_x))\n",
        "  print(\"\\n\")\n",
        "\n",
        "que_es(train_set_x)\n",
        "que_es(train_set_y)"
      ],
      "metadata": {
        "colab": {
          "base_uri": "https://localhost:8080/"
        },
        "id": "7x76toBNQOYT",
        "outputId": "15b00769-c35e-44f7-8960-8a77f9607580"
      },
      "execution_count": 12,
      "outputs": [
        {
          "output_type": "stream",
          "name": "stdout",
          "text": [
            "tipo:  <class 'numpy.ndarray'>\n",
            "shape:  (12288, 100)\n",
            "\n",
            "\n",
            "tipo:  <class 'numpy.ndarray'>\n",
            "shape:  (12288, 100)\n",
            "\n",
            "\n"
          ]
        }
      ]
    },
    {
      "cell_type": "markdown",
      "source": [
        "Cada elemento del array es un arreglo de todos los valores de los pixeles de la imagen, es decir (alto x ancho x 3). Son 100 elementos porque utilizamos 100 imágenes."
      ],
      "metadata": {
        "id": "S5MIfMiNTDwu"
      }
    },
    {
      "cell_type": "markdown",
      "source": [
        "Ya esta listo nuestro set de datos para poder trabajar con el."
      ],
      "metadata": {
        "id": "k7_0oaq7F5y0"
      }
    },
    {
      "cell_type": "markdown",
      "source": [
        "___________________________\n",
        "\n",
        "1.   Pesos iniciales\n",
        "2.   Calcular Z con los pesos\n",
        "3.   Aplicar la sigmoide a z, lo que me da y\n",
        "4.   Con y obtener el costo y sus derivadas\n",
        "5.   Actualizar los costos\n"
      ],
      "metadata": {
        "id": "pJnw9nk9G5OU"
      }
    },
    {
      "cell_type": "markdown",
      "source": [
        "$$\n",
        "z = W^T x + b\n",
        "$$\n"
      ],
      "metadata": {
        "id": "TG1RtcE9HHGo"
      }
    },
    {
      "cell_type": "code",
      "source": [
        "z = (w.T @ x) + b"
      ],
      "metadata": {
        "colab": {
          "base_uri": "https://localhost:8080/",
          "height": 175
        },
        "id": "l76DS_eaHFJ7",
        "outputId": "002b49b2-bc98-4a8d-8109-f3d42b1ac76d"
      },
      "execution_count": 13,
      "outputs": [
        {
          "output_type": "error",
          "ename": "NameError",
          "evalue": "ignored",
          "traceback": [
            "\u001b[0;31m---------------------------------------------------------------------------\u001b[0m",
            "\u001b[0;31mNameError\u001b[0m                                 Traceback (most recent call last)",
            "\u001b[0;32m<ipython-input-13-1b934983485e>\u001b[0m in \u001b[0;36m<cell line: 1>\u001b[0;34m()\u001b[0m\n\u001b[0;32m----> 1\u001b[0;31m \u001b[0mz\u001b[0m \u001b[0;34m=\u001b[0m \u001b[0;34m(\u001b[0m\u001b[0mw\u001b[0m\u001b[0;34m.\u001b[0m\u001b[0mT\u001b[0m \u001b[0;34m@\u001b[0m \u001b[0mx\u001b[0m\u001b[0;34m)\u001b[0m \u001b[0;34m+\u001b[0m \u001b[0mb\u001b[0m\u001b[0;34m\u001b[0m\u001b[0;34m\u001b[0m\u001b[0m\n\u001b[0m",
            "\u001b[0;31mNameError\u001b[0m: name 'w' is not defined"
          ]
        }
      ]
    },
    {
      "cell_type": "markdown",
      "source": [
        "$$\n",
        "σ(z) = \\frac{1}{1+ e^{-z}}\n",
        "$$"
      ],
      "metadata": {
        "id": "Y-ThP3HsJSt7"
      }
    },
    {
      "cell_type": "code",
      "source": [
        "a = 1 / (1 + np.exp(-z))"
      ],
      "metadata": {
        "id": "eyEZtzEZJSDU"
      },
      "execution_count": null,
      "outputs": []
    },
    {
      "cell_type": "markdown",
      "source": [
        "$$\n",
        "y = σ(z)\n",
        "$$"
      ],
      "metadata": {
        "id": "Rbs96738Nvc1"
      }
    },
    {
      "cell_type": "code",
      "source": [
        "z = (x, b, w)\n",
        "y_hat = sigmoide(z)"
      ],
      "metadata": {
        "id": "aVBbJQHGJing"
      },
      "execution_count": null,
      "outputs": []
    },
    {
      "cell_type": "markdown",
      "source": [
        "$$\n",
        "J(w, b) = \\frac{1}{m} Σ_{i=1}^{m} L(̂y^{(i)}, y^{(i)}) =a \\frac{1}{m} Σ_{i=1}^{m}[(y^{(i)})log(\\hat{y}^{(i)})+(1-y^{(i)})log(1-̂\\hat{y}^{(i)})]\n",
        "$$"
      ],
      "metadata": {
        "id": "FQkeyTPrLFT2"
      }
    },
    {
      "cell_type": "code",
      "source": [
        "def costo(w, b):\n",
        "  j = y_hat * (1/m) * np.sum(y * np,log(y_hat) + (1 - y) * np.log(1-y_hat))\n",
        "  return j"
      ],
      "metadata": {
        "id": "v0837_HALUJs"
      },
      "execution_count": null,
      "outputs": []
    },
    {
      "cell_type": "markdown",
      "source": [
        "\n",
        "$$\n",
        "dw = \\frac{1}{m}x dz\n",
        "$$\n",
        "$$\n",
        "db = \\frac{1}{m}dz\n",
        "$$\n",
        "$$\n",
        "dz = a - y, \\hat{y} = a\n",
        "$$"
      ],
      "metadata": {
        "id": "hpiiAYGMMTDp"
      }
    },
    {
      "cell_type": "code",
      "source": [
        "dw = 1/m * x * dz\n",
        "db = 1/m * dz\n",
        "dz = y_hat - y"
      ],
      "metadata": {
        "id": "xmh9iGt4Mqo0"
      },
      "execution_count": null,
      "outputs": []
    },
    {
      "cell_type": "markdown",
      "source": [
        "$$\n",
        "w = w - \\alpha \\frac{\\partial J}{\\partial w} = w - \\alpha dw\n",
        "$$\n",
        "\n",
        "\n",
        "$$\n",
        "b = b - \\alpha \\frac{\\partial J}{\\partial b} = b - \\alpha db\n",
        "$$\n",
        "\n",
        "$\\alpha$ = learning rate"
      ],
      "metadata": {
        "id": "kNlFkyoOM2B3"
      }
    },
    {
      "cell_type": "code",
      "source": [
        "alpha = 0.5\n",
        "w = w - alpha * dw\n",
        "b = b - alpha * db"
      ],
      "metadata": {
        "id": "-Lgc2JhrM1Yo"
      },
      "execution_count": null,
      "outputs": []
    },
    {
      "cell_type": "code",
      "source": [
        "# Definir pesos iniciales\n"
      ],
      "metadata": {
        "id": "1PEIriGTF6Df"
      },
      "execution_count": null,
      "outputs": []
    },
    {
      "cell_type": "markdown",
      "source": [
        "Algoritmo de la regresión logistica  (o red neuronal sencilla)"
      ],
      "metadata": {
        "id": "IQw7a_O1PwOX"
      }
    },
    {
      "cell_type": "code",
      "source": [
        "def reg_logistica(x, y):\n",
        "  w = np.zeros((np.shape(x)[1], np.shape(x)[0]))\n",
        "  wt = w.T\n",
        "  que_es(wt)\n",
        "  que_es(w)\n",
        "\n",
        "  b = np.ones(np.shape(x)[1])\n",
        "  z = (wt @ x) + b\n",
        "  que_es(z)\n",
        "  y_hat = sigmoide(z)\n",
        "\n",
        "  return y_hat"
      ],
      "metadata": {
        "id": "dXV606eCPlfE"
      },
      "execution_count": 14,
      "outputs": []
    },
    {
      "cell_type": "code",
      "source": [
        "y_hat = reg_logistica(train_set_x, train_set_y)"
      ],
      "metadata": {
        "colab": {
          "base_uri": "https://localhost:8080/",
          "height": 453
        },
        "id": "lUCtm6p4XRUr",
        "outputId": "0e3fee50-b52a-465e-828b-cfccbf0b05dd"
      },
      "execution_count": 15,
      "outputs": [
        {
          "output_type": "stream",
          "name": "stdout",
          "text": [
            "tipo:  <class 'numpy.ndarray'>\n",
            "shape:  (12288, 100)\n",
            "\n",
            "\n",
            "tipo:  <class 'numpy.ndarray'>\n",
            "shape:  (12288, 100)\n",
            "\n",
            "\n"
          ]
        },
        {
          "output_type": "error",
          "ename": "ValueError",
          "evalue": "ignored",
          "traceback": [
            "\u001b[0;31m---------------------------------------------------------------------------\u001b[0m",
            "\u001b[0;31mValueError\u001b[0m                                Traceback (most recent call last)",
            "\u001b[0;32m<ipython-input-15-b66f88138c5c>\u001b[0m in \u001b[0;36m<cell line: 1>\u001b[0;34m()\u001b[0m\n\u001b[0;32m----> 1\u001b[0;31m \u001b[0my_hat\u001b[0m \u001b[0;34m=\u001b[0m \u001b[0mreg_logistica\u001b[0m\u001b[0;34m(\u001b[0m\u001b[0mtrain_set_x\u001b[0m\u001b[0;34m,\u001b[0m \u001b[0mtrain_set_y\u001b[0m\u001b[0;34m)\u001b[0m\u001b[0;34m\u001b[0m\u001b[0;34m\u001b[0m\u001b[0m\n\u001b[0m",
            "\u001b[0;32m<ipython-input-14-27e7807cc7ed>\u001b[0m in \u001b[0;36mreg_logistica\u001b[0;34m(x, y)\u001b[0m\n\u001b[1;32m      6\u001b[0m \u001b[0;34m\u001b[0m\u001b[0m\n\u001b[1;32m      7\u001b[0m   \u001b[0mb\u001b[0m \u001b[0;34m=\u001b[0m \u001b[0mnp\u001b[0m\u001b[0;34m.\u001b[0m\u001b[0mones\u001b[0m\u001b[0;34m(\u001b[0m\u001b[0mnp\u001b[0m\u001b[0;34m.\u001b[0m\u001b[0mshape\u001b[0m\u001b[0;34m(\u001b[0m\u001b[0mx\u001b[0m\u001b[0;34m)\u001b[0m\u001b[0;34m[\u001b[0m\u001b[0;36m1\u001b[0m\u001b[0;34m]\u001b[0m\u001b[0;34m)\u001b[0m\u001b[0;34m\u001b[0m\u001b[0;34m\u001b[0m\u001b[0m\n\u001b[0;32m----> 8\u001b[0;31m   \u001b[0mz\u001b[0m \u001b[0;34m=\u001b[0m \u001b[0;34m(\u001b[0m\u001b[0mwt\u001b[0m \u001b[0;34m@\u001b[0m \u001b[0mx\u001b[0m\u001b[0;34m)\u001b[0m \u001b[0;34m+\u001b[0m \u001b[0mb\u001b[0m\u001b[0;34m\u001b[0m\u001b[0;34m\u001b[0m\u001b[0m\n\u001b[0m\u001b[1;32m      9\u001b[0m   \u001b[0mque_es\u001b[0m\u001b[0;34m(\u001b[0m\u001b[0mz\u001b[0m\u001b[0;34m)\u001b[0m\u001b[0;34m\u001b[0m\u001b[0;34m\u001b[0m\u001b[0m\n\u001b[1;32m     10\u001b[0m   \u001b[0my_hat\u001b[0m \u001b[0;34m=\u001b[0m \u001b[0msigmoide\u001b[0m\u001b[0;34m(\u001b[0m\u001b[0mz\u001b[0m\u001b[0;34m)\u001b[0m\u001b[0;34m\u001b[0m\u001b[0;34m\u001b[0m\u001b[0m\n",
            "\u001b[0;31mValueError\u001b[0m: matmul: Input operand 1 has a mismatch in its core dimension 0, with gufunc signature (n?,k),(k,m?)->(n?,m?) (size 12288 is different from 100)"
          ]
        }
      ]
    },
    {
      "cell_type": "code",
      "source": [
        "w = np.zeros((np.shape(train_set_x)[1]))\n",
        "wt = w.T\n",
        "que_es(train_set_x)\n",
        "que_es(w)\n",
        "que_es(wt)"
      ],
      "metadata": {
        "id": "sST4GcbHXWLv"
      },
      "execution_count": null,
      "outputs": []
    },
    {
      "cell_type": "code",
      "source": [
        "w @ train_set_x\n"
      ],
      "metadata": {
        "id": "4cG3zfF-ZIGj"
      },
      "execution_count": null,
      "outputs": []
    },
    {
      "cell_type": "code",
      "source": [
        "wt @ train_set_x"
      ],
      "metadata": {
        "id": "nXKxwXp2ZsQP"
      },
      "execution_count": null,
      "outputs": []
    },
    {
      "cell_type": "code",
      "source": [
        "dimension de z es la misma de y (¿?)\n"
      ],
      "metadata": {
        "id": "GG-xLN3bZsqp"
      },
      "execution_count": null,
      "outputs": []
    },
    {
      "cell_type": "code",
      "source": [
        "Prediccion"
      ],
      "metadata": {
        "colab": {
          "base_uri": "https://localhost:8080/",
          "height": 175
        },
        "id": "YIB4HckRb_UA",
        "outputId": "6c66b471-4e7a-484b-c69d-d6df92a5b31a"
      },
      "execution_count": 16,
      "outputs": [
        {
          "output_type": "error",
          "ename": "NameError",
          "evalue": "ignored",
          "traceback": [
            "\u001b[0;31m---------------------------------------------------------------------------\u001b[0m",
            "\u001b[0;31mNameError\u001b[0m                                 Traceback (most recent call last)",
            "\u001b[0;32m<ipython-input-16-3b646d0da2ce>\u001b[0m in \u001b[0;36m<cell line: 1>\u001b[0;34m()\u001b[0m\n\u001b[0;32m----> 1\u001b[0;31m \u001b[0mPrediccion\u001b[0m\u001b[0;34m\u001b[0m\u001b[0;34m\u001b[0m\u001b[0m\n\u001b[0m",
            "\u001b[0;31mNameError\u001b[0m: name 'Prediccion' is not defined"
          ]
        }
      ]
    },
    {
      "cell_type": "code",
      "source": [
        "# validacion conjunto de validacion"
      ],
      "metadata": {
        "id": "M-xrvICscALv"
      },
      "execution_count": null,
      "outputs": []
    }
  ]
}