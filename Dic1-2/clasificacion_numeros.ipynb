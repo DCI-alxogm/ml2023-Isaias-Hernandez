{
  "cells": [
    {
      "cell_type": "markdown",
      "metadata": {
        "id": "view-in-github",
        "colab_type": "text"
      },
      "source": [
        "<a href=\"https://colab.research.google.com/github/DCI-alxogm/ml2023-Isaias-Hernandez/blob/main/Dic1-2/clasificacion_numeros.ipynb\" target=\"_parent\"><img src=\"https://colab.research.google.com/assets/colab-badge.svg\" alt=\"Open In Colab\"/></a>"
      ]
    },
    {
      "cell_type": "markdown",
      "id": "0f17837e",
      "metadata": {
        "id": "0f17837e"
      },
      "source": [
        "# Red Neuronal para clasificación de números\n",
        "Por Isaías Hernández Lares | ML2023"
      ]
    },
    {
      "cell_type": "markdown",
      "source": [
        "Importamos las bibliotecas"
      ],
      "metadata": {
        "id": "u7ITKHJ40AA2"
      },
      "id": "u7ITKHJ40AA2"
    },
    {
      "cell_type": "code",
      "execution_count": 24,
      "id": "85f6a4aa",
      "metadata": {
        "id": "85f6a4aa"
      },
      "outputs": [],
      "source": [
        "import numpy as np\n",
        "import pandas as pd\n",
        "import matplotlib.pyplot as plt\n",
        "import tensorflow as tf\n",
        "import keras\n",
        "from tensorflow.keras.models import Sequential\n",
        "from tensorflow.keras import layers\n",
        "from tensorflow.keras.layers import Dense,Dropout, Flatten\n",
        "from keras.optimizers import Adam\n",
        "from keras import regularizers"
      ]
    },
    {
      "cell_type": "markdown",
      "source": [
        "# Cargando los datos"
      ],
      "metadata": {
        "id": "lw13EgQGya4h"
      },
      "id": "lw13EgQGya4h"
    },
    {
      "cell_type": "code",
      "execution_count": 7,
      "id": "6587e7b6",
      "metadata": {
        "colab": {
          "base_uri": "https://localhost:8080/",
          "height": 0
        },
        "id": "6587e7b6",
        "outputId": "12353225-55d1-4dce-d40c-1c5fccc1a578"
      },
      "outputs": [
        {
          "output_type": "execute_result",
          "data": {
            "text/plain": [
              "       label  pixel0  pixel1  pixel2  pixel3  pixel4  pixel5  pixel6  pixel7  \\\n",
              "0          1       0       0       0       0       0       0       0       0   \n",
              "1          0       0       0       0       0       0       0       0       0   \n",
              "2          1       0       0       0       0       0       0       0       0   \n",
              "3          4       0       0       0       0       0       0       0       0   \n",
              "4          0       0       0       0       0       0       0       0       0   \n",
              "...      ...     ...     ...     ...     ...     ...     ...     ...     ...   \n",
              "41995      0       0       0       0       0       0       0       0       0   \n",
              "41996      1       0       0       0       0       0       0       0       0   \n",
              "41997      7       0       0       0       0       0       0       0       0   \n",
              "41998      6       0       0       0       0       0       0       0       0   \n",
              "41999      9       0       0       0       0       0       0       0       0   \n",
              "\n",
              "       pixel8  ...  pixel774  pixel775  pixel776  pixel777  pixel778  \\\n",
              "0           0  ...         0         0         0         0         0   \n",
              "1           0  ...         0         0         0         0         0   \n",
              "2           0  ...         0         0         0         0         0   \n",
              "3           0  ...         0         0         0         0         0   \n",
              "4           0  ...         0         0         0         0         0   \n",
              "...       ...  ...       ...       ...       ...       ...       ...   \n",
              "41995       0  ...         0         0         0         0         0   \n",
              "41996       0  ...         0         0         0         0         0   \n",
              "41997       0  ...         0         0         0         0         0   \n",
              "41998       0  ...         0         0         0         0         0   \n",
              "41999       0  ...         0         0         0         0         0   \n",
              "\n",
              "       pixel779  pixel780  pixel781  pixel782  pixel783  \n",
              "0             0         0         0         0         0  \n",
              "1             0         0         0         0         0  \n",
              "2             0         0         0         0         0  \n",
              "3             0         0         0         0         0  \n",
              "4             0         0         0         0         0  \n",
              "...         ...       ...       ...       ...       ...  \n",
              "41995         0         0         0         0         0  \n",
              "41996         0         0         0         0         0  \n",
              "41997         0         0         0         0         0  \n",
              "41998         0         0         0         0         0  \n",
              "41999         0         0         0         0         0  \n",
              "\n",
              "[42000 rows x 785 columns]"
            ],
            "text/html": [
              "\n",
              "  <div id=\"df-11590351-8a60-4193-ab98-37eb4848197f\" class=\"colab-df-container\">\n",
              "    <div>\n",
              "<style scoped>\n",
              "    .dataframe tbody tr th:only-of-type {\n",
              "        vertical-align: middle;\n",
              "    }\n",
              "\n",
              "    .dataframe tbody tr th {\n",
              "        vertical-align: top;\n",
              "    }\n",
              "\n",
              "    .dataframe thead th {\n",
              "        text-align: right;\n",
              "    }\n",
              "</style>\n",
              "<table border=\"1\" class=\"dataframe\">\n",
              "  <thead>\n",
              "    <tr style=\"text-align: right;\">\n",
              "      <th></th>\n",
              "      <th>label</th>\n",
              "      <th>pixel0</th>\n",
              "      <th>pixel1</th>\n",
              "      <th>pixel2</th>\n",
              "      <th>pixel3</th>\n",
              "      <th>pixel4</th>\n",
              "      <th>pixel5</th>\n",
              "      <th>pixel6</th>\n",
              "      <th>pixel7</th>\n",
              "      <th>pixel8</th>\n",
              "      <th>...</th>\n",
              "      <th>pixel774</th>\n",
              "      <th>pixel775</th>\n",
              "      <th>pixel776</th>\n",
              "      <th>pixel777</th>\n",
              "      <th>pixel778</th>\n",
              "      <th>pixel779</th>\n",
              "      <th>pixel780</th>\n",
              "      <th>pixel781</th>\n",
              "      <th>pixel782</th>\n",
              "      <th>pixel783</th>\n",
              "    </tr>\n",
              "  </thead>\n",
              "  <tbody>\n",
              "    <tr>\n",
              "      <th>0</th>\n",
              "      <td>1</td>\n",
              "      <td>0</td>\n",
              "      <td>0</td>\n",
              "      <td>0</td>\n",
              "      <td>0</td>\n",
              "      <td>0</td>\n",
              "      <td>0</td>\n",
              "      <td>0</td>\n",
              "      <td>0</td>\n",
              "      <td>0</td>\n",
              "      <td>...</td>\n",
              "      <td>0</td>\n",
              "      <td>0</td>\n",
              "      <td>0</td>\n",
              "      <td>0</td>\n",
              "      <td>0</td>\n",
              "      <td>0</td>\n",
              "      <td>0</td>\n",
              "      <td>0</td>\n",
              "      <td>0</td>\n",
              "      <td>0</td>\n",
              "    </tr>\n",
              "    <tr>\n",
              "      <th>1</th>\n",
              "      <td>0</td>\n",
              "      <td>0</td>\n",
              "      <td>0</td>\n",
              "      <td>0</td>\n",
              "      <td>0</td>\n",
              "      <td>0</td>\n",
              "      <td>0</td>\n",
              "      <td>0</td>\n",
              "      <td>0</td>\n",
              "      <td>0</td>\n",
              "      <td>...</td>\n",
              "      <td>0</td>\n",
              "      <td>0</td>\n",
              "      <td>0</td>\n",
              "      <td>0</td>\n",
              "      <td>0</td>\n",
              "      <td>0</td>\n",
              "      <td>0</td>\n",
              "      <td>0</td>\n",
              "      <td>0</td>\n",
              "      <td>0</td>\n",
              "    </tr>\n",
              "    <tr>\n",
              "      <th>2</th>\n",
              "      <td>1</td>\n",
              "      <td>0</td>\n",
              "      <td>0</td>\n",
              "      <td>0</td>\n",
              "      <td>0</td>\n",
              "      <td>0</td>\n",
              "      <td>0</td>\n",
              "      <td>0</td>\n",
              "      <td>0</td>\n",
              "      <td>0</td>\n",
              "      <td>...</td>\n",
              "      <td>0</td>\n",
              "      <td>0</td>\n",
              "      <td>0</td>\n",
              "      <td>0</td>\n",
              "      <td>0</td>\n",
              "      <td>0</td>\n",
              "      <td>0</td>\n",
              "      <td>0</td>\n",
              "      <td>0</td>\n",
              "      <td>0</td>\n",
              "    </tr>\n",
              "    <tr>\n",
              "      <th>3</th>\n",
              "      <td>4</td>\n",
              "      <td>0</td>\n",
              "      <td>0</td>\n",
              "      <td>0</td>\n",
              "      <td>0</td>\n",
              "      <td>0</td>\n",
              "      <td>0</td>\n",
              "      <td>0</td>\n",
              "      <td>0</td>\n",
              "      <td>0</td>\n",
              "      <td>...</td>\n",
              "      <td>0</td>\n",
              "      <td>0</td>\n",
              "      <td>0</td>\n",
              "      <td>0</td>\n",
              "      <td>0</td>\n",
              "      <td>0</td>\n",
              "      <td>0</td>\n",
              "      <td>0</td>\n",
              "      <td>0</td>\n",
              "      <td>0</td>\n",
              "    </tr>\n",
              "    <tr>\n",
              "      <th>4</th>\n",
              "      <td>0</td>\n",
              "      <td>0</td>\n",
              "      <td>0</td>\n",
              "      <td>0</td>\n",
              "      <td>0</td>\n",
              "      <td>0</td>\n",
              "      <td>0</td>\n",
              "      <td>0</td>\n",
              "      <td>0</td>\n",
              "      <td>0</td>\n",
              "      <td>...</td>\n",
              "      <td>0</td>\n",
              "      <td>0</td>\n",
              "      <td>0</td>\n",
              "      <td>0</td>\n",
              "      <td>0</td>\n",
              "      <td>0</td>\n",
              "      <td>0</td>\n",
              "      <td>0</td>\n",
              "      <td>0</td>\n",
              "      <td>0</td>\n",
              "    </tr>\n",
              "    <tr>\n",
              "      <th>...</th>\n",
              "      <td>...</td>\n",
              "      <td>...</td>\n",
              "      <td>...</td>\n",
              "      <td>...</td>\n",
              "      <td>...</td>\n",
              "      <td>...</td>\n",
              "      <td>...</td>\n",
              "      <td>...</td>\n",
              "      <td>...</td>\n",
              "      <td>...</td>\n",
              "      <td>...</td>\n",
              "      <td>...</td>\n",
              "      <td>...</td>\n",
              "      <td>...</td>\n",
              "      <td>...</td>\n",
              "      <td>...</td>\n",
              "      <td>...</td>\n",
              "      <td>...</td>\n",
              "      <td>...</td>\n",
              "      <td>...</td>\n",
              "      <td>...</td>\n",
              "    </tr>\n",
              "    <tr>\n",
              "      <th>41995</th>\n",
              "      <td>0</td>\n",
              "      <td>0</td>\n",
              "      <td>0</td>\n",
              "      <td>0</td>\n",
              "      <td>0</td>\n",
              "      <td>0</td>\n",
              "      <td>0</td>\n",
              "      <td>0</td>\n",
              "      <td>0</td>\n",
              "      <td>0</td>\n",
              "      <td>...</td>\n",
              "      <td>0</td>\n",
              "      <td>0</td>\n",
              "      <td>0</td>\n",
              "      <td>0</td>\n",
              "      <td>0</td>\n",
              "      <td>0</td>\n",
              "      <td>0</td>\n",
              "      <td>0</td>\n",
              "      <td>0</td>\n",
              "      <td>0</td>\n",
              "    </tr>\n",
              "    <tr>\n",
              "      <th>41996</th>\n",
              "      <td>1</td>\n",
              "      <td>0</td>\n",
              "      <td>0</td>\n",
              "      <td>0</td>\n",
              "      <td>0</td>\n",
              "      <td>0</td>\n",
              "      <td>0</td>\n",
              "      <td>0</td>\n",
              "      <td>0</td>\n",
              "      <td>0</td>\n",
              "      <td>...</td>\n",
              "      <td>0</td>\n",
              "      <td>0</td>\n",
              "      <td>0</td>\n",
              "      <td>0</td>\n",
              "      <td>0</td>\n",
              "      <td>0</td>\n",
              "      <td>0</td>\n",
              "      <td>0</td>\n",
              "      <td>0</td>\n",
              "      <td>0</td>\n",
              "    </tr>\n",
              "    <tr>\n",
              "      <th>41997</th>\n",
              "      <td>7</td>\n",
              "      <td>0</td>\n",
              "      <td>0</td>\n",
              "      <td>0</td>\n",
              "      <td>0</td>\n",
              "      <td>0</td>\n",
              "      <td>0</td>\n",
              "      <td>0</td>\n",
              "      <td>0</td>\n",
              "      <td>0</td>\n",
              "      <td>...</td>\n",
              "      <td>0</td>\n",
              "      <td>0</td>\n",
              "      <td>0</td>\n",
              "      <td>0</td>\n",
              "      <td>0</td>\n",
              "      <td>0</td>\n",
              "      <td>0</td>\n",
              "      <td>0</td>\n",
              "      <td>0</td>\n",
              "      <td>0</td>\n",
              "    </tr>\n",
              "    <tr>\n",
              "      <th>41998</th>\n",
              "      <td>6</td>\n",
              "      <td>0</td>\n",
              "      <td>0</td>\n",
              "      <td>0</td>\n",
              "      <td>0</td>\n",
              "      <td>0</td>\n",
              "      <td>0</td>\n",
              "      <td>0</td>\n",
              "      <td>0</td>\n",
              "      <td>0</td>\n",
              "      <td>...</td>\n",
              "      <td>0</td>\n",
              "      <td>0</td>\n",
              "      <td>0</td>\n",
              "      <td>0</td>\n",
              "      <td>0</td>\n",
              "      <td>0</td>\n",
              "      <td>0</td>\n",
              "      <td>0</td>\n",
              "      <td>0</td>\n",
              "      <td>0</td>\n",
              "    </tr>\n",
              "    <tr>\n",
              "      <th>41999</th>\n",
              "      <td>9</td>\n",
              "      <td>0</td>\n",
              "      <td>0</td>\n",
              "      <td>0</td>\n",
              "      <td>0</td>\n",
              "      <td>0</td>\n",
              "      <td>0</td>\n",
              "      <td>0</td>\n",
              "      <td>0</td>\n",
              "      <td>0</td>\n",
              "      <td>...</td>\n",
              "      <td>0</td>\n",
              "      <td>0</td>\n",
              "      <td>0</td>\n",
              "      <td>0</td>\n",
              "      <td>0</td>\n",
              "      <td>0</td>\n",
              "      <td>0</td>\n",
              "      <td>0</td>\n",
              "      <td>0</td>\n",
              "      <td>0</td>\n",
              "    </tr>\n",
              "  </tbody>\n",
              "</table>\n",
              "<p>42000 rows × 785 columns</p>\n",
              "</div>\n",
              "    <div class=\"colab-df-buttons\">\n",
              "\n",
              "  <div class=\"colab-df-container\">\n",
              "    <button class=\"colab-df-convert\" onclick=\"convertToInteractive('df-11590351-8a60-4193-ab98-37eb4848197f')\"\n",
              "            title=\"Convert this dataframe to an interactive table.\"\n",
              "            style=\"display:none;\">\n",
              "\n",
              "  <svg xmlns=\"http://www.w3.org/2000/svg\" height=\"24px\" viewBox=\"0 -960 960 960\">\n",
              "    <path d=\"M120-120v-720h720v720H120Zm60-500h600v-160H180v160Zm220 220h160v-160H400v160Zm0 220h160v-160H400v160ZM180-400h160v-160H180v160Zm440 0h160v-160H620v160ZM180-180h160v-160H180v160Zm440 0h160v-160H620v160Z\"/>\n",
              "  </svg>\n",
              "    </button>\n",
              "\n",
              "  <style>\n",
              "    .colab-df-container {\n",
              "      display:flex;\n",
              "      gap: 12px;\n",
              "    }\n",
              "\n",
              "    .colab-df-convert {\n",
              "      background-color: #E8F0FE;\n",
              "      border: none;\n",
              "      border-radius: 50%;\n",
              "      cursor: pointer;\n",
              "      display: none;\n",
              "      fill: #1967D2;\n",
              "      height: 32px;\n",
              "      padding: 0 0 0 0;\n",
              "      width: 32px;\n",
              "    }\n",
              "\n",
              "    .colab-df-convert:hover {\n",
              "      background-color: #E2EBFA;\n",
              "      box-shadow: 0px 1px 2px rgba(60, 64, 67, 0.3), 0px 1px 3px 1px rgba(60, 64, 67, 0.15);\n",
              "      fill: #174EA6;\n",
              "    }\n",
              "\n",
              "    .colab-df-buttons div {\n",
              "      margin-bottom: 4px;\n",
              "    }\n",
              "\n",
              "    [theme=dark] .colab-df-convert {\n",
              "      background-color: #3B4455;\n",
              "      fill: #D2E3FC;\n",
              "    }\n",
              "\n",
              "    [theme=dark] .colab-df-convert:hover {\n",
              "      background-color: #434B5C;\n",
              "      box-shadow: 0px 1px 3px 1px rgba(0, 0, 0, 0.15);\n",
              "      filter: drop-shadow(0px 1px 2px rgba(0, 0, 0, 0.3));\n",
              "      fill: #FFFFFF;\n",
              "    }\n",
              "  </style>\n",
              "\n",
              "    <script>\n",
              "      const buttonEl =\n",
              "        document.querySelector('#df-11590351-8a60-4193-ab98-37eb4848197f button.colab-df-convert');\n",
              "      buttonEl.style.display =\n",
              "        google.colab.kernel.accessAllowed ? 'block' : 'none';\n",
              "\n",
              "      async function convertToInteractive(key) {\n",
              "        const element = document.querySelector('#df-11590351-8a60-4193-ab98-37eb4848197f');\n",
              "        const dataTable =\n",
              "          await google.colab.kernel.invokeFunction('convertToInteractive',\n",
              "                                                    [key], {});\n",
              "        if (!dataTable) return;\n",
              "\n",
              "        const docLinkHtml = 'Like what you see? Visit the ' +\n",
              "          '<a target=\"_blank\" href=https://colab.research.google.com/notebooks/data_table.ipynb>data table notebook</a>'\n",
              "          + ' to learn more about interactive tables.';\n",
              "        element.innerHTML = '';\n",
              "        dataTable['output_type'] = 'display_data';\n",
              "        await google.colab.output.renderOutput(dataTable, element);\n",
              "        const docLink = document.createElement('div');\n",
              "        docLink.innerHTML = docLinkHtml;\n",
              "        element.appendChild(docLink);\n",
              "      }\n",
              "    </script>\n",
              "  </div>\n",
              "\n",
              "\n",
              "<div id=\"df-1b917c40-8fa1-413c-ac18-3784431782e4\">\n",
              "  <button class=\"colab-df-quickchart\" onclick=\"quickchart('df-1b917c40-8fa1-413c-ac18-3784431782e4')\"\n",
              "            title=\"Suggest charts\"\n",
              "            style=\"display:none;\">\n",
              "\n",
              "<svg xmlns=\"http://www.w3.org/2000/svg\" height=\"24px\"viewBox=\"0 0 24 24\"\n",
              "     width=\"24px\">\n",
              "    <g>\n",
              "        <path d=\"M19 3H5c-1.1 0-2 .9-2 2v14c0 1.1.9 2 2 2h14c1.1 0 2-.9 2-2V5c0-1.1-.9-2-2-2zM9 17H7v-7h2v7zm4 0h-2V7h2v10zm4 0h-2v-4h2v4z\"/>\n",
              "    </g>\n",
              "</svg>\n",
              "  </button>\n",
              "\n",
              "<style>\n",
              "  .colab-df-quickchart {\n",
              "      --bg-color: #E8F0FE;\n",
              "      --fill-color: #1967D2;\n",
              "      --hover-bg-color: #E2EBFA;\n",
              "      --hover-fill-color: #174EA6;\n",
              "      --disabled-fill-color: #AAA;\n",
              "      --disabled-bg-color: #DDD;\n",
              "  }\n",
              "\n",
              "  [theme=dark] .colab-df-quickchart {\n",
              "      --bg-color: #3B4455;\n",
              "      --fill-color: #D2E3FC;\n",
              "      --hover-bg-color: #434B5C;\n",
              "      --hover-fill-color: #FFFFFF;\n",
              "      --disabled-bg-color: #3B4455;\n",
              "      --disabled-fill-color: #666;\n",
              "  }\n",
              "\n",
              "  .colab-df-quickchart {\n",
              "    background-color: var(--bg-color);\n",
              "    border: none;\n",
              "    border-radius: 50%;\n",
              "    cursor: pointer;\n",
              "    display: none;\n",
              "    fill: var(--fill-color);\n",
              "    height: 32px;\n",
              "    padding: 0;\n",
              "    width: 32px;\n",
              "  }\n",
              "\n",
              "  .colab-df-quickchart:hover {\n",
              "    background-color: var(--hover-bg-color);\n",
              "    box-shadow: 0 1px 2px rgba(60, 64, 67, 0.3), 0 1px 3px 1px rgba(60, 64, 67, 0.15);\n",
              "    fill: var(--button-hover-fill-color);\n",
              "  }\n",
              "\n",
              "  .colab-df-quickchart-complete:disabled,\n",
              "  .colab-df-quickchart-complete:disabled:hover {\n",
              "    background-color: var(--disabled-bg-color);\n",
              "    fill: var(--disabled-fill-color);\n",
              "    box-shadow: none;\n",
              "  }\n",
              "\n",
              "  .colab-df-spinner {\n",
              "    border: 2px solid var(--fill-color);\n",
              "    border-color: transparent;\n",
              "    border-bottom-color: var(--fill-color);\n",
              "    animation:\n",
              "      spin 1s steps(1) infinite;\n",
              "  }\n",
              "\n",
              "  @keyframes spin {\n",
              "    0% {\n",
              "      border-color: transparent;\n",
              "      border-bottom-color: var(--fill-color);\n",
              "      border-left-color: var(--fill-color);\n",
              "    }\n",
              "    20% {\n",
              "      border-color: transparent;\n",
              "      border-left-color: var(--fill-color);\n",
              "      border-top-color: var(--fill-color);\n",
              "    }\n",
              "    30% {\n",
              "      border-color: transparent;\n",
              "      border-left-color: var(--fill-color);\n",
              "      border-top-color: var(--fill-color);\n",
              "      border-right-color: var(--fill-color);\n",
              "    }\n",
              "    40% {\n",
              "      border-color: transparent;\n",
              "      border-right-color: var(--fill-color);\n",
              "      border-top-color: var(--fill-color);\n",
              "    }\n",
              "    60% {\n",
              "      border-color: transparent;\n",
              "      border-right-color: var(--fill-color);\n",
              "    }\n",
              "    80% {\n",
              "      border-color: transparent;\n",
              "      border-right-color: var(--fill-color);\n",
              "      border-bottom-color: var(--fill-color);\n",
              "    }\n",
              "    90% {\n",
              "      border-color: transparent;\n",
              "      border-bottom-color: var(--fill-color);\n",
              "    }\n",
              "  }\n",
              "</style>\n",
              "\n",
              "  <script>\n",
              "    async function quickchart(key) {\n",
              "      const quickchartButtonEl =\n",
              "        document.querySelector('#' + key + ' button');\n",
              "      quickchartButtonEl.disabled = true;  // To prevent multiple clicks.\n",
              "      quickchartButtonEl.classList.add('colab-df-spinner');\n",
              "      try {\n",
              "        const charts = await google.colab.kernel.invokeFunction(\n",
              "            'suggestCharts', [key], {});\n",
              "      } catch (error) {\n",
              "        console.error('Error during call to suggestCharts:', error);\n",
              "      }\n",
              "      quickchartButtonEl.classList.remove('colab-df-spinner');\n",
              "      quickchartButtonEl.classList.add('colab-df-quickchart-complete');\n",
              "    }\n",
              "    (() => {\n",
              "      let quickchartButtonEl =\n",
              "        document.querySelector('#df-1b917c40-8fa1-413c-ac18-3784431782e4 button');\n",
              "      quickchartButtonEl.style.display =\n",
              "        google.colab.kernel.accessAllowed ? 'block' : 'none';\n",
              "    })();\n",
              "  </script>\n",
              "</div>\n",
              "    </div>\n",
              "  </div>\n"
            ]
          },
          "metadata": {},
          "execution_count": 7
        }
      ],
      "source": [
        "df = pd.read_csv('/content/drive/MyDrive/ML2023/train.csv')\n",
        "df"
      ]
    },
    {
      "cell_type": "code",
      "execution_count": 8,
      "id": "9baac704",
      "metadata": {
        "colab": {
          "base_uri": "https://localhost:8080/"
        },
        "id": "9baac704",
        "outputId": "e492da74-6b1a-4a47-dab8-053616ed0257"
      },
      "outputs": [
        {
          "output_type": "execute_result",
          "data": {
            "text/plain": [
              "1    4684\n",
              "7    4401\n",
              "3    4351\n",
              "9    4188\n",
              "2    4177\n",
              "6    4137\n",
              "0    4132\n",
              "4    4072\n",
              "8    4063\n",
              "5    3795\n",
              "Name: label, dtype: int64"
            ]
          },
          "metadata": {},
          "execution_count": 8
        }
      ],
      "source": [
        "df.label.value_counts()"
      ]
    },
    {
      "cell_type": "code",
      "execution_count": 9,
      "id": "c349dbcb",
      "metadata": {
        "id": "c349dbcb"
      },
      "outputs": [],
      "source": [
        "#Para filtrar solo los 0's y 1's\n",
        "df01 = df[(df.label==1) | (df.label==0)]\n",
        "arr = np.array(df01)\n"
      ]
    },
    {
      "cell_type": "markdown",
      "source": [
        "Generando los arreglos de datos"
      ],
      "metadata": {
        "id": "CBppt6qRynll"
      },
      "id": "CBppt6qRynll"
    },
    {
      "cell_type": "code",
      "source": [
        "temp = np.array(df)\n",
        "X = temp[:, 1:]\n",
        "Y = temp[:, 0]\n",
        "X.shape, Y.shape"
      ],
      "metadata": {
        "colab": {
          "base_uri": "https://localhost:8080/"
        },
        "id": "fvYAaaVUdNvY",
        "outputId": "825b0115-80ad-4ff7-a27c-7b19599170af"
      },
      "id": "fvYAaaVUdNvY",
      "execution_count": 10,
      "outputs": [
        {
          "output_type": "execute_result",
          "data": {
            "text/plain": [
              "((42000, 784), (42000,))"
            ]
          },
          "metadata": {},
          "execution_count": 10
        }
      ]
    },
    {
      "cell_type": "markdown",
      "source": [
        "Ploteando algunas imágenes"
      ],
      "metadata": {
        "id": "uKHjSA40yzR5"
      },
      "id": "uKHjSA40yzR5"
    },
    {
      "cell_type": "code",
      "execution_count": 11,
      "id": "c39573f7",
      "metadata": {
        "colab": {
          "base_uri": "https://localhost:8080/",
          "height": 0
        },
        "id": "c39573f7",
        "outputId": "40c0d8af-86a9-4617-9eb5-d44f023c889c"
      },
      "outputs": [
        {
          "output_type": "display_data",
          "data": {
            "text/plain": [
              "<Figure size 1000x1000 with 25 Axes>"
            ],
            "image/png": "[encoded data removed]"
          },
          "metadata": {}
        }
      ],
      "source": [
        "arr2 = X.T.reshape(28, 28, 42000)\n",
        "\n",
        "fig, ax = plt.subplots(5, 5, figsize=(10, 10))\n",
        "j, k = 0, 0\n",
        "n = 5\n",
        "for i in range(n*n):\n",
        "    ax[j, k].imshow(arr2[:,:,i], cmap=\"Greys_r\")\n",
        "    k += 1\n",
        "    if k%n == 0:\n",
        "        k = 0\n",
        "        j += 1"
      ]
    },
    {
      "cell_type": "markdown",
      "source": [
        "# Modelo de Keras\n"
      ],
      "metadata": {
        "id": "xyI6x3NIL0rJ"
      },
      "id": "xyI6x3NIL0rJ"
    },
    {
      "cell_type": "markdown",
      "source": [
        "Separamos el dataset en test y train"
      ],
      "metadata": {
        "id": "jEAsXUG6zfsr"
      },
      "id": "jEAsXUG6zfsr"
    },
    {
      "cell_type": "code",
      "source": [
        "from sklearn.model_selection import train_test_split\n",
        "x_train, x_test, y_train, y_test = train_test_split(X,Y, test_size=0.10, random_state=42,shuffle= True)\n",
        "x_train.shape"
      ],
      "metadata": {
        "colab": {
          "base_uri": "https://localhost:8080/"
        },
        "id": "ICN1Acc2c2vw",
        "outputId": "37bacc55-2716-46b0-c608-30873f502b24"
      },
      "id": "ICN1Acc2c2vw",
      "execution_count": 22,
      "outputs": [
        {
          "output_type": "execute_result",
          "data": {
            "text/plain": [
              "(37800, 784)"
            ]
          },
          "metadata": {},
          "execution_count": 22
        }
      ]
    },
    {
      "cell_type": "markdown",
      "source": [
        "## Definición de la primera arquitectura de red neuronal"
      ],
      "metadata": {
        "id": "GrDJR2XKsE5g"
      },
      "id": "GrDJR2XKsE5g"
    },
    {
      "cell_type": "markdown",
      "source": [
        "Definimos una forma arbitraria de la arquitectura"
      ],
      "metadata": {
        "id": "oyfCXRzw4vXB"
      },
      "id": "oyfCXRzw4vXB"
    },
    {
      "cell_type": "code",
      "execution_count": 25,
      "id": "d526a527",
      "metadata": {
        "colab": {
          "base_uri": "https://localhost:8080/"
        },
        "id": "d526a527",
        "outputId": "e3569000-c281-448d-e024-28e56b65d33f"
      },
      "outputs": [
        {
          "output_type": "stream",
          "name": "stdout",
          "text": [
            "Model: \"sequential_2\"\n",
            "_________________________________________________________________\n",
            " Layer (type)                Output Shape              Param #   \n",
            "=================================================================\n",
            "=================================================================\n",
            "Total params: 0 (0.00 Byte)\n",
            "Trainable params: 0 (0.00 Byte)\n",
            "Non-trainable params: 0 (0.00 Byte)\n",
            "_________________________________________________________________\n"
          ]
        }
      ],
      "source": [
        "tf.random.set_seed(1)\n",
        "model = Sequential([tf.keras.Input(shape=(x_train.shape[1],))])\n",
        "model.summary()"
      ]
    },
    {
      "cell_type": "code",
      "execution_count": 26,
      "id": "8f07cbaf",
      "metadata": {
        "id": "8f07cbaf",
        "colab": {
          "base_uri": "https://localhost:8080/"
        },
        "outputId": "b684b9c2-f3fc-4577-bbc6-a0d3d2e54c4e"
      },
      "outputs": [
        {
          "output_type": "stream",
          "name": "stdout",
          "text": [
            "Model: \"sequential_2\"\n",
            "_________________________________________________________________\n",
            " Layer (type)                Output Shape              Param #   \n",
            "=================================================================\n",
            " layer_1 (Dense)             (None, 64)                50240     \n",
            "                                                                 \n",
            " layer_final (Dense)         (None, 10)                650       \n",
            "                                                                 \n",
            "=================================================================\n",
            "Total params: 50890 (198.79 KB)\n",
            "Trainable params: 50890 (198.79 KB)\n",
            "Non-trainable params: 0 (0.00 Byte)\n",
            "_________________________________________________________________\n"
          ]
        }
      ],
      "source": [
        "model.add(Dense(64, activation = \"relu\", name=\"layer_1\"))\n",
        "model.add(layers.Dense(10, activation=\"softmax\", name=\"layer_final\"))\n",
        "model.summary()"
      ]
    },
    {
      "cell_type": "markdown",
      "source": [
        "Entrenamiento del modelo 1"
      ],
      "metadata": {
        "id": "fkF1zX1csLn3"
      },
      "id": "fkF1zX1csLn3"
    },
    {
      "cell_type": "markdown",
      "source": [
        "Especificamos las configuraciones del entrenamiento(optimizer, loss, metrics):\n",
        "\n"
      ],
      "metadata": {
        "id": "5MisFPX7tZuu"
      },
      "id": "5MisFPX7tZuu"
    },
    {
      "cell_type": "code",
      "source": [
        "model.compile(\n",
        "  optimizer = \"sgd\",\n",
        "  loss = keras.losses.SparseCategoricalCrossentropy(),\n",
        "  metrics=[keras.metrics.SparseCategoricalAccuracy()],\n",
        ")"
      ],
      "metadata": {
        "id": "8-6cwgoKsDu-"
      },
      "id": "8-6cwgoKsDu-",
      "execution_count": 27,
      "outputs": []
    },
    {
      "cell_type": "markdown",
      "source": [
        "Llamamos fit() para entrenar el modelo. Utiliza batches para iterar para utilizar durante el entrenamiento.\n"
      ],
      "metadata": {
        "id": "p5NBiMfbu-wj"
      },
      "id": "p5NBiMfbu-wj"
    },
    {
      "cell_type": "code",
      "source": [
        "print(\"Fit model on training data\")\n",
        "history = model.fit(\n",
        "    x_train,\n",
        "    y_train,\n",
        "    batch_size=64,\n",
        "    epochs=10,\n",
        "    # We pass some validation for\n",
        "    # monitoring validation loss and metrics\n",
        "    # at the end of each epoch\n",
        "    validation_split = 0.1\n",
        ")"
      ],
      "metadata": {
        "colab": {
          "base_uri": "https://localhost:8080/"
        },
        "id": "091PXQB9u-gZ",
        "outputId": "a9042e88-7707-40d6-d6cd-802fd1a27ebb"
      },
      "id": "091PXQB9u-gZ",
      "execution_count": 28,
      "outputs": [
        {
          "output_type": "stream",
          "name": "stdout",
          "text": [
            "Fit model on training data\n",
            "Epoch 1/10\n",
            "532/532 [==============================] - 3s 5ms/step - loss: 50.5282 - sparse_categorical_accuracy: 0.1111 - val_loss: 2.2998 - val_sparse_categorical_accuracy: 0.1143\n",
            "Epoch 2/10\n",
            "532/532 [==============================] - 2s 5ms/step - loss: 2.3093 - sparse_categorical_accuracy: 0.1163 - val_loss: 2.2954 - val_sparse_categorical_accuracy: 0.1159\n",
            "Epoch 3/10\n",
            "532/532 [==============================] - 2s 3ms/step - loss: 2.2885 - sparse_categorical_accuracy: 0.1202 - val_loss: 2.3009 - val_sparse_categorical_accuracy: 0.1130\n",
            "Epoch 4/10\n",
            "532/532 [==============================] - 2s 3ms/step - loss: 2.3010 - sparse_categorical_accuracy: 0.1115 - val_loss: 2.3009 - val_sparse_categorical_accuracy: 0.1130\n",
            "Epoch 5/10\n",
            "532/532 [==============================] - 2s 3ms/step - loss: 2.3010 - sparse_categorical_accuracy: 0.1115 - val_loss: 2.3010 - val_sparse_categorical_accuracy: 0.1130\n",
            "Epoch 6/10\n",
            "532/532 [==============================] - 2s 3ms/step - loss: 2.3009 - sparse_categorical_accuracy: 0.1115 - val_loss: 2.3010 - val_sparse_categorical_accuracy: 0.1130\n",
            "Epoch 7/10\n",
            "532/532 [==============================] - 2s 3ms/step - loss: 2.3009 - sparse_categorical_accuracy: 0.1115 - val_loss: 2.3010 - val_sparse_categorical_accuracy: 0.1130\n",
            "Epoch 8/10\n",
            "532/532 [==============================] - 2s 3ms/step - loss: 2.3009 - sparse_categorical_accuracy: 0.1115 - val_loss: 2.3010 - val_sparse_categorical_accuracy: 0.1130\n",
            "Epoch 9/10\n",
            "532/532 [==============================] - 2s 4ms/step - loss: 2.3009 - sparse_categorical_accuracy: 0.1115 - val_loss: 2.3010 - val_sparse_categorical_accuracy: 0.1130\n",
            "Epoch 10/10\n",
            "532/532 [==============================] - 3s 5ms/step - loss: 2.3009 - sparse_categorical_accuracy: 0.1115 - val_loss: 2.3010 - val_sparse_categorical_accuracy: 0.1130\n"
          ]
        }
      ]
    },
    {
      "cell_type": "markdown",
      "source": [
        "Evaluación del modelo\n"
      ],
      "metadata": {
        "id": "kuXq8ilywEY4"
      },
      "id": "kuXq8ilywEY4"
    },
    {
      "cell_type": "code",
      "source": [
        "print(\"Evaluar en test data\")\n",
        "results = model.evaluate(x_test, y_test, batch_size=128)\n",
        "print(\"test loss, test acc:\", results)"
      ],
      "metadata": {
        "colab": {
          "base_uri": "https://localhost:8080/"
        },
        "id": "ILSvwniwwGke",
        "outputId": "0201a8e4-3ec7-4195-bc03-52b1170ff024"
      },
      "id": "ILSvwniwwGke",
      "execution_count": 29,
      "outputs": [
        {
          "output_type": "stream",
          "name": "stdout",
          "text": [
            "Evaluar en test data\n",
            "33/33 [==============================] - 0s 2ms/step - loss: 2.2997 - sparse_categorical_accuracy: 0.1124\n",
            "test loss, test acc: [2.299682140350342, 0.11238095164299011]\n"
          ]
        }
      ]
    },
    {
      "cell_type": "markdown",
      "source": [
        "La presición es malísima. Tenemos que mejorar los hiperparametros."
      ],
      "metadata": {
        "id": "Iu_tfJNp1yZq"
      },
      "id": "Iu_tfJNp1yZq"
    },
    {
      "cell_type": "markdown",
      "source": [
        "Consideramos que un buen valor de la función costo en 0.3. En este caso tenemos ~2.3 de la función costo para el entrenamiento y validación. Tenemos $J_{dev}$ y $J_{val}$ altos, es decir, tenemos porblema de bias. Proponemos aumentar la cantidad de capas y neuronas para mejorar la función costo."
      ],
      "metadata": {
        "id": "dbZpy6qH3Ko1"
      },
      "id": "dbZpy6qH3Ko1"
    },
    {
      "cell_type": "markdown",
      "source": [
        "## Segunda Arquitectura"
      ],
      "metadata": {
        "id": "KHcT_Borxthg"
      },
      "id": "KHcT_Borxthg"
    },
    {
      "cell_type": "markdown",
      "source": [
        "Añadimos una capa y un dropout para regularización"
      ],
      "metadata": {
        "id": "hjKR1HR18JTT"
      },
      "id": "hjKR1HR18JTT"
    },
    {
      "cell_type": "code",
      "source": [
        "model2 = Sequential([\n",
        "    Dense(128, activation='relu', kernel_regularizer=regularizers.l2(0.001)),\n",
        "    Dense(64, activation='relu', kernel_regularizer=regularizers.l2(0.001)),\n",
        "    Dropout(0.5),\n",
        "    Dense(10, activation='softmax')\n",
        "])\n",
        "\n",
        "# Compilar el modelo\n",
        "model.compile(optimizer=Adam(), loss='sparse_categorical_crossentropy', metrics=['accuracy'])\n",
        "\n",
        "# Entrenar el modelo\n",
        "history = model.fit(\n",
        "    x_train,\n",
        "    y_train,\n",
        "    batch_size=64,\n",
        "    epochs=15,\n",
        "    validation_split=0.1\n",
        ")\n",
        "\n",
        "# Evaluar en datos de prueba\n",
        "results = model.evaluate(x_test, y_test, batch_size=128)\n",
        "print(\"Test loss, test accuracy:\", results)"
      ],
      "metadata": {
        "colab": {
          "base_uri": "https://localhost:8080/"
        },
        "id": "UIlIN8rR6BnS",
        "outputId": "ef5306b3-e00d-4151-bebe-0efa1c3cda59"
      },
      "id": "UIlIN8rR6BnS",
      "execution_count": 30,
      "outputs": [
        {
          "output_type": "stream",
          "name": "stdout",
          "text": [
            "Epoch 1/15\n",
            "532/532 [==============================] - 3s 4ms/step - loss: 2.3010 - accuracy: 0.1147 - val_loss: 2.3285 - val_accuracy: 0.1275\n",
            "Epoch 2/15\n",
            "532/532 [==============================] - 2s 4ms/step - loss: 2.1986 - accuracy: 0.1731 - val_loss: 2.1100 - val_accuracy: 0.1995\n",
            "Epoch 3/15\n",
            "532/532 [==============================] - 3s 5ms/step - loss: 2.0739 - accuracy: 0.2154 - val_loss: 2.0522 - val_accuracy: 0.2389\n",
            "Epoch 4/15\n",
            "532/532 [==============================] - 3s 5ms/step - loss: 1.9813 - accuracy: 0.2471 - val_loss: 1.9423 - val_accuracy: 0.2735\n",
            "Epoch 5/15\n",
            "532/532 [==============================] - 2s 4ms/step - loss: 1.8369 - accuracy: 0.2957 - val_loss: 1.7482 - val_accuracy: 0.3198\n",
            "Epoch 6/15\n",
            "532/532 [==============================] - 2s 3ms/step - loss: 1.7184 - accuracy: 0.3221 - val_loss: 1.6646 - val_accuracy: 0.3471\n",
            "Epoch 7/15\n",
            "532/532 [==============================] - 2s 3ms/step - loss: 1.6619 - accuracy: 0.3328 - val_loss: 1.6330 - val_accuracy: 0.3259\n",
            "Epoch 8/15\n",
            "532/532 [==============================] - 2s 4ms/step - loss: 1.5396 - accuracy: 0.3879 - val_loss: 1.4129 - val_accuracy: 0.4606\n",
            "Epoch 9/15\n",
            "532/532 [==============================] - 2s 3ms/step - loss: 1.4053 - accuracy: 0.4569 - val_loss: 1.3471 - val_accuracy: 0.4892\n",
            "Epoch 10/15\n",
            "532/532 [==============================] - 2s 4ms/step - loss: 1.3446 - accuracy: 0.4788 - val_loss: 1.2976 - val_accuracy: 0.4899\n",
            "Epoch 11/15\n",
            "532/532 [==============================] - 3s 5ms/step - loss: 1.3023 - accuracy: 0.4930 - val_loss: 1.2571 - val_accuracy: 0.5034\n",
            "Epoch 12/15\n",
            "532/532 [==============================] - 3s 6ms/step - loss: 1.2792 - accuracy: 0.5026 - val_loss: 1.2653 - val_accuracy: 0.5323\n",
            "Epoch 13/15\n",
            "532/532 [==============================] - 2s 4ms/step - loss: 1.2599 - accuracy: 0.5105 - val_loss: 1.2308 - val_accuracy: 0.5365\n",
            "Epoch 14/15\n",
            "532/532 [==============================] - 2s 3ms/step - loss: 1.2341 - accuracy: 0.5139 - val_loss: 1.2241 - val_accuracy: 0.5286\n",
            "Epoch 15/15\n",
            "532/532 [==============================] - 2s 3ms/step - loss: 1.2243 - accuracy: 0.5169 - val_loss: 1.2182 - val_accuracy: 0.5381\n",
            "33/33 [==============================] - 0s 4ms/step - loss: 1.2247 - accuracy: 0.5243\n",
            "Test loss, test accuracy: [1.2247308492660522, 0.5242857336997986]\n"
          ]
        }
      ]
    },
    {
      "cell_type": "markdown",
      "source": [
        "La presición ha mejorado, pero aún falta más para llegar al valor 0.3.\n",
        "\n",
        "Variamos la cantidad de neuronas para generar la curva de aprendizaje. Obtenemos la siguiente gráfica."
      ],
      "metadata": {
        "id": "MhQLpj8KBKtu"
      },
      "id": "MhQLpj8KBKtu"
    },
    {
      "cell_type": "code",
      "source": [
        "loss = [0.7390, 0.7407, 0.7416, 0.7445, 0.7473, 0.7126, 0.7030, 0.6930, 0.6352, 0.7392]\n",
        "neuronas = [30, 40, 50, 60, 70, 80, 90, 100, 110, 75]\n",
        "plt.scatter(neuronas, loss)\n",
        "plt.title(\"Curva de aprendizaje test, capa 1\")\n",
        "plt.xlabel(\"Neuronas\")\n",
        "plt.ylabel(\"loss_test\")"
      ],
      "metadata": {
        "colab": {
          "base_uri": "https://localhost:8080/",
          "height": 490
        },
        "id": "BMbYLEIaBzpg",
        "outputId": "1340f1e3-fa72-4cc5-b584-49916c5379f2"
      },
      "id": "BMbYLEIaBzpg",
      "execution_count": 48,
      "outputs": [
        {
          "output_type": "execute_result",
          "data": {
            "text/plain": [
              "Text(0, 0.5, 'loss_test')"
            ]
          },
          "metadata": {},
          "execution_count": 48
        },
        {
          "output_type": "display_data",
          "data": {
            "text/plain": [
              "<Figure size 640x480 with 1 Axes>"
            ],
            "image/png": "[encoded data removed]"
          },
          "metadata": {}
        }
      ]
    },
    {
      "cell_type": "markdown",
      "source": [
        "Determinamos que es mejor tener 70 neuronas en la primera capa. Repetimos el mismo proceso para la segunda capa."
      ],
      "metadata": {
        "id": "JgB8JOscEerQ"
      },
      "id": "JgB8JOscEerQ"
    },
    {
      "cell_type": "code",
      "source": [
        "model2 = Sequential([\n",
        "    Dense(70, activation='relu', kernel_regularizer=regularizers.l2(0.001)),\n",
        "    Dense(50, activation='relu', kernel_regularizer=regularizers.l2(0.001)),\n",
        "    Dropout(0.5),\n",
        "    Dense(10, activation='softmax')\n",
        "])\n",
        "\n",
        "# Compilar el modelo\n",
        "model.compile(optimizer=Adam(), loss='sparse_categorical_crossentropy', metrics=['accuracy'])\n",
        "\n",
        "# Entrenar el modelo\n",
        "history = model.fit(\n",
        "    x_train,\n",
        "    y_train,\n",
        "    batch_size=64,\n",
        "    epochs=10,\n",
        "    validation_split=0.1\n",
        ")\n",
        "\n",
        "# Evaluar en datos de prueba\n",
        "results = model.evaluate(x_test, y_test, batch_size=128)\n",
        "print(\"Test loss, test accuracy:\", results)"
      ],
      "metadata": {
        "colab": {
          "base_uri": "https://localhost:8080/"
        },
        "id": "MO7I6GYqBnS9",
        "outputId": "826fc109-eb95-4c2d-886f-f797a6e3d1ec"
      },
      "id": "MO7I6GYqBnS9",
      "execution_count": null,
      "outputs": [
        {
          "output_type": "stream",
          "name": "stdout",
          "text": [
            "Epoch 1/10\n",
            "532/532 [==============================] - 3s 4ms/step - loss: 0.7544 - accuracy: 0.7713 - val_loss: 0.8123 - val_accuracy: 0.7746\n",
            "Epoch 2/10\n",
            "532/532 [==============================] - 2s 4ms/step - loss: 0.7469 - accuracy: 0.7741 - val_loss: 0.8359 - val_accuracy: 0.7487\n",
            "Epoch 3/10\n",
            "532/532 [==============================] - 4s 7ms/step - loss: 0.7477 - accuracy: 0.7760 - val_loss: 0.8240 - val_accuracy: 0.7741\n",
            "Epoch 4/10\n",
            "532/532 [==============================] - 3s 6ms/step - loss: 0.7509 - accuracy: 0.7735 - val_loss: 0.8387 - val_accuracy: 0.7611\n",
            "Epoch 5/10\n",
            "532/532 [==============================] - 3s 6ms/step - loss: 0.7501 - accuracy: 0.7740 - val_loss: 0.8180 - val_accuracy: 0.7680\n",
            "Epoch 6/10\n",
            "532/532 [==============================] - 2s 5ms/step - loss: 0.7476 - accuracy: 0.7755 - val_loss: 0.8269 - val_accuracy: 0.7685\n",
            "Epoch 7/10\n",
            "532/532 [==============================] - 2s 3ms/step - loss: 0.7515 - accuracy: 0.7726 - val_loss: 0.8303 - val_accuracy: 0.7712\n",
            "Epoch 8/10\n",
            "532/532 [==============================] - 2s 3ms/step - loss: 0.7459 - accuracy: 0.7745 - val_loss: 0.8310 - val_accuracy: 0.7693\n",
            "Epoch 9/10\n",
            "532/532 [==============================] - 2s 4ms/step - loss: 0.7481 - accuracy: 0.7738 - val_loss: 0.8235 - val_accuracy: 0.7672\n",
            "Epoch 10/10\n",
            "532/532 [==============================] - 3s 5ms/step - loss: 0.7466 - accuracy: 0.7765 - val_loss: 0.8258 - val_accuracy: 0.7614\n"
          ]
        }
      ]
    },
    {
      "cell_type": "code",
      "source": [
        "loss = [0.7402, ]\n",
        "neuronas = [60, 50, ]\n",
        "plt.scatter(neuronas, loss)\n",
        "plt.title(\"Curva de aprendizaje test, capa 2\")\n",
        "plt.xlabel(\"Neuronas\")\n",
        "plt.ylabel(\"loss_test\")"
      ],
      "metadata": {
        "id": "1VCmy3IUE8v_"
      },
      "id": "1VCmy3IUE8v_",
      "execution_count": null,
      "outputs": []
    },
    {
      "cell_type": "code",
      "source": [
        "# Crear el modelo\n",
        "model = Sequential([\n",
        "    Dense(128, activation='relu', kernel_regularizer=regularizers.l2(0.001)),\n",
        "    Dropout(0.3),  # Capa de Dropout para regularización\n",
        "    Dense(64, activation='relu', kernel_regularizer=regularizers.l2(0.001)),\n",
        "    Dropout(0.3),  # Capa de Dropout para regularización\n",
        "    Dense(10, activation='softmax')\n",
        "])\n",
        "\n",
        "# Compilar el modelo\n",
        "model.compile(optimizer=Adam(), loss='sparse_categorical_crossentropy', metrics=['accuracy'])\n",
        "\n",
        "# Entrenar el modelo\n",
        "history = model.fit(\n",
        "    x_train,\n",
        "    y_train,\n",
        "    batch_size=64,\n",
        "    epochs=15,\n",
        "    validation_split=0.1\n",
        ")\n",
        "\n",
        "# Evaluar en datos de prueba\n",
        "results = model.evaluate(x_test, y_test, batch_size=128)\n",
        "print(\"Test loss, test accuracy:\", results)"
      ],
      "metadata": {
        "colab": {
          "base_uri": "https://localhost:8080/"
        },
        "id": "i4LCNqjNyCEw",
        "outputId": "7e729b24-35cf-4bf8-9a90-f74632b470c9"
      },
      "id": "i4LCNqjNyCEw",
      "execution_count": 19,
      "outputs": [
        {
          "output_type": "stream",
          "name": "stdout",
          "text": [
            "Epoch 1/15\n",
            "532/532 [==============================] - 4s 6ms/step - loss: 5.7547 - accuracy: 0.5174 - val_loss: 1.2052 - val_accuracy: 0.7500\n",
            "Epoch 2/15\n",
            "532/532 [==============================] - 3s 6ms/step - loss: 1.4292 - accuracy: 0.6617 - val_loss: 0.9810 - val_accuracy: 0.8257\n",
            "Epoch 3/15\n",
            "532/532 [==============================] - 3s 6ms/step - loss: 1.1683 - accuracy: 0.7349 - val_loss: 0.7623 - val_accuracy: 0.8754\n",
            "Epoch 4/15\n",
            "532/532 [==============================] - 5s 9ms/step - loss: 1.0022 - accuracy: 0.7760 - val_loss: 0.6492 - val_accuracy: 0.9000\n",
            "Epoch 5/15\n",
            "532/532 [==============================] - 4s 8ms/step - loss: 0.8563 - accuracy: 0.8179 - val_loss: 0.5933 - val_accuracy: 0.9093\n",
            "Epoch 6/15\n",
            "532/532 [==============================] - 3s 7ms/step - loss: 0.7647 - accuracy: 0.8361 - val_loss: 0.5268 - val_accuracy: 0.9196\n",
            "Epoch 7/15\n",
            "532/532 [==============================] - 3s 5ms/step - loss: 0.6950 - accuracy: 0.8518 - val_loss: 0.4924 - val_accuracy: 0.9270\n",
            "Epoch 8/15\n",
            "532/532 [==============================] - 5s 9ms/step - loss: 0.6489 - accuracy: 0.8650 - val_loss: 0.4674 - val_accuracy: 0.9280\n",
            "Epoch 9/15\n",
            "532/532 [==============================] - 7s 13ms/step - loss: 0.5864 - accuracy: 0.8767 - val_loss: 0.3984 - val_accuracy: 0.9392\n",
            "Epoch 10/15\n",
            "532/532 [==============================] - 3s 6ms/step - loss: 0.5529 - accuracy: 0.8833 - val_loss: 0.3906 - val_accuracy: 0.9360\n",
            "Epoch 11/15\n",
            "532/532 [==============================] - 3s 6ms/step - loss: 0.5145 - accuracy: 0.8908 - val_loss: 0.3736 - val_accuracy: 0.9323\n",
            "Epoch 12/15\n",
            "532/532 [==============================] - 3s 5ms/step - loss: 0.4857 - accuracy: 0.8948 - val_loss: 0.3545 - val_accuracy: 0.9347\n",
            "Epoch 13/15\n",
            "532/532 [==============================] - 5s 10ms/step - loss: 0.4620 - accuracy: 0.9018 - val_loss: 0.3219 - val_accuracy: 0.9429\n",
            "Epoch 14/15\n",
            "532/532 [==============================] - 6s 11ms/step - loss: 0.4297 - accuracy: 0.9069 - val_loss: 0.3012 - val_accuracy: 0.9466\n",
            "Epoch 15/15\n",
            "532/532 [==============================] - 4s 7ms/step - loss: 0.4161 - accuracy: 0.9071 - val_loss: 0.3005 - val_accuracy: 0.9463\n",
            "33/33 [==============================] - 0s 5ms/step - loss: 0.2922 - accuracy: 0.9412\n",
            "Test loss, test accuracy: [0.29223716259002686, 0.9411904811859131]\n"
          ]
        }
      ]
    },
    {
      "cell_type": "code",
      "source": [
        ".941190481185913"
      ],
      "metadata": {
        "id": "vjt-qEOUN9CA"
      },
      "id": "vjt-qEOUN9CA",
      "execution_count": 19,
      "outputs": []
    },
    {
      "cell_type": "code",
      "source": [],
      "metadata": {
        "id": "4fnqXd1UyJw7"
      },
      "id": "4fnqXd1UyJw7",
      "execution_count": 19,
      "outputs": []
    }
  ],
  "metadata": {
    "kernelspec": {
      "display_name": "Python 3 (ipykernel)",
      "language": "python",
      "name": "python3"
    },
    "language_info": {
      "codemirror_mode": {
        "name": "ipython",
        "version": 3
      },
      "file_extension": ".py",
      "mimetype": "text/x-python",
      "name": "python",
      "nbconvert_exporter": "python",
      "pygments_lexer": "ipython3",
      "version": "3.11.3"
    },
    "colab": {
      "provenance": [],
      "collapsed_sections": [
        "lw13EgQGya4h"
      ],
      "include_colab_link": true
    }
  },
  "nbformat": 4,
  "nbformat_minor": 5
}