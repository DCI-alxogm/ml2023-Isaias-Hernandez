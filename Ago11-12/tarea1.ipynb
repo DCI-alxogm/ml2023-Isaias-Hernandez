{
  "cells": [
    {
      "cell_type": "markdown",
      "metadata": {
        "id": "view-in-github",
        "colab_type": "text"
      },
      "source": [
        "<a href=\"https://colab.research.google.com/github/DCI-alxogm/ml2023-Isaias-Hernandez/blob/main/Ago11-12/tarea1.ipynb\" target=\"_parent\"><img src=\"https://colab.research.google.com/assets/colab-badge.svg\" alt=\"Open In Colab\"/></a>"
      ]
    },
    {
      "cell_type": "markdown",
      "id": "3cb41cde",
      "metadata": {
        "id": "3cb41cde"
      },
      "source": [
        "# Tarea 1 - ML - 2023 por Isaías Hernández Lares"
      ]
    },
    {
      "cell_type": "markdown",
      "id": "b43bb5be",
      "metadata": {
        "id": "b43bb5be"
      },
      "source": [
        "## Capítulo 2 - Numpy"
      ]
    },
    {
      "cell_type": "code",
      "execution_count": null,
      "id": "9154892c",
      "metadata": {
        "id": "9154892c"
      },
      "outputs": [],
      "source": [
        "import numpy as np"
      ]
    },
    {
      "cell_type": "markdown",
      "id": "713b99c3",
      "metadata": {
        "id": "713b99c3"
      },
      "source": [
        "Puntos relevantes (notas):\n",
        "+ dynamic typing\n",
        "+ python estandar está escrito en C -> una variable es realmente un apuntador a una estructura en C\n",
        "+ una variable en python contiene 4 partes, una referencia, tipo, tamaño y contenido\n",
        "+ un array de la libreria \"array\" tener elementos de un mismo tipo. produce eficiencia en el almacenamiento\n",
        "+ un array de numpy(narray) también tiene la eficiencia y le añade operaciones"
      ]
    },
    {
      "cell_type": "code",
      "execution_count": null,
      "id": "150f5cf4",
      "metadata": {
        "id": "150f5cf4",
        "outputId": "17d4efa0-7e57-4574-e766-b4abcc059417"
      },
      "outputs": [
        {
          "data": {
            "text/plain": [
              "[1, 4, 9, 16, 25]"
            ]
          },
          "execution_count": 5,
          "metadata": {},
          "output_type": "execute_result"
        }
      ],
      "source": [
        "# Sintaxis de un ciclo for en una linea\n",
        "# nueva_lista = [expresion for elemento in iterable]\n",
        "cuadrados = [x**2 for x in range(1, 6)]\n",
        "cuadrados"
      ]
    },
    {
      "cell_type": "code",
      "execution_count": null,
      "id": "4ff20a59",
      "metadata": {
        "id": "4ff20a59"
      },
      "outputs": [],
      "source": [
        "#Maneras de crear arreglos con numpy.\n",
        "#Varian de muchas maneras con la forma de crearlos.\n",
        "#Arreglos aleatorios con distribuciones específicas\n",
        "array1 = np.random.random((3, 3)) #numeros aleatorios con distribucion uniforme entre 0 y 1\n",
        "array2 = np.random.normal(0, 1, (3, 3)) #numeros aleatorios con distribucion normal estandarizada\n",
        "array3 = np.random.randint(0, 10, (3, 3)) # numeros enteros entre [0,10]\n",
        "array4 = np.eye(3) #Matriz identidad\n",
        "np.random.seed(0)  # semilla para aleatoriedad"
      ]
    },
    {
      "cell_type": "code",
      "execution_count": null,
      "id": "539a41c3",
      "metadata": {
        "id": "539a41c3"
      },
      "outputs": [],
      "source": []
    },
    {
      "cell_type": "markdown",
      "source": [
        "## Capítulo 3 - Pandas"
      ],
      "metadata": {
        "id": "sPfqvDWonJXQ"
      },
      "id": "sPfqvDWonJXQ"
    },
    {
      "cell_type": "code",
      "source": [
        "import pandas as pd"
      ],
      "metadata": {
        "id": "WykKKwsjroPK"
      },
      "id": "WykKKwsjroPK",
      "execution_count": 1,
      "outputs": []
    },
    {
      "cell_type": "markdown",
      "source": [
        "Notas:\n",
        "+ Series son arrays unidimensionales que funcionan de manera similar a un narray y a un diccionario.\n",
        "+ Dataframes son arrays multidimensionales con etiquetas de filas y columnas. funcionan como diccionario de series o narrays 2 dimensionales\n",
        "+ tipos heterogeneos de información\n"
      ],
      "metadata": {
        "id": "VLB4a9ShoMZr"
      },
      "id": "VLB4a9ShoMZr"
    },
    {
      "cell_type": "code",
      "source": [
        "import pandas as pd\n",
        "data = pd.Series([0.25, 0.5, 0.75, 1.0],\n",
        "                 index=['a', 'b', 'c', 'd'])\n",
        "data\n",
        "list(data.items())\n",
        "data['e'] = 1.25 #extender serie como diccionario"
      ],
      "metadata": {
        "id": "52YAweRfnNRI"
      },
      "id": "52YAweRfnNRI",
      "execution_count": 4,
      "outputs": []
    },
    {
      "cell_type": "code",
      "source": [
        "#First, the loc attribute allows indexing and slicing that always references the explicit index:\n",
        "data = pd.Series(['a', 'b', 'c'], index=[1, 3, 5])\n",
        "data.loc[1:3]"
      ],
      "metadata": {
        "colab": {
          "base_uri": "https://localhost:8080/"
        },
        "id": "Po08dZilryJB",
        "outputId": "5ce3c1c7-be76-44b7-ec94-02ccb92a7caa"
      },
      "id": "Po08dZilryJB",
      "execution_count": 6,
      "outputs": [
        {
          "output_type": "execute_result",
          "data": {
            "text/plain": [
              "1    a\n",
              "3    b\n",
              "dtype: object"
            ]
          },
          "metadata": {},
          "execution_count": 6
        }
      ]
    },
    {
      "cell_type": "code",
      "source": [],
      "metadata": {
        "id": "Y4pKYY8_t1sC"
      },
      "id": "Y4pKYY8_t1sC",
      "execution_count": null,
      "outputs": []
    }
  ],
  "metadata": {
    "kernelspec": {
      "display_name": "Python 3 (ipykernel)",
      "language": "python",
      "name": "python3"
    },
    "language_info": {
      "codemirror_mode": {
        "name": "ipython",
        "version": 3
      },
      "file_extension": ".py",
      "mimetype": "text/x-python",
      "name": "python",
      "nbconvert_exporter": "python",
      "pygments_lexer": "ipython3",
      "version": "3.11.3"
    },
    "colab": {
      "provenance": [],
      "include_colab_link": true
    }
  },
  "nbformat": 4,
  "nbformat_minor": 5
}