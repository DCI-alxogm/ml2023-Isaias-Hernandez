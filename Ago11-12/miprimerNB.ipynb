{
  "nbformat": 4,
  "nbformat_minor": 0,
  "metadata": {
    "colab": {
      "provenance": [],
      "authorship_tag": "ABX9TyOk747pA2fbBqG1o7pi1VHJ",
      "include_colab_link": true
    },
    "kernelspec": {
      "name": "python3",
      "display_name": "Python 3"
    },
    "language_info": {
      "name": "python"
    }
  },
  "cells": [
    {
      "cell_type": "markdown",
      "metadata": {
        "id": "view-in-github",
        "colab_type": "text"
      },
      "source": [
        "<a href=\"https://colab.research.google.com/github/DCI-alxogm/ml2023-Isaias-Hernandez/blob/main/Ago11-12/miprimerNB.ipynb\" target=\"_parent\"><img src=\"https://colab.research.google.com/assets/colab-badge.svg\" alt=\"Open In Colab\"/></a>"
      ]
    },
    {
      "cell_type": "markdown",
      "source": [
        "12/08/2023\n",
        "Por Isaías Hernández Lares"
      ],
      "metadata": {
        "id": "pzVX4BYG6JaG"
      }
    },
    {
      "cell_type": "markdown",
      "source": [
        "# Introducción a python #"
      ],
      "metadata": {
        "id": "h7fLPU4N6V1Q"
      }
    },
    {
      "cell_type": "code",
      "execution_count": 12,
      "metadata": {
        "id": "pO4FHCwByQH7"
      },
      "outputs": [],
      "source": [
        "lista1 = [2, \"2\", \"dos\"]"
      ]
    },
    {
      "cell_type": "markdown",
      "source": [
        "##Añadir y eliminar elementos de una lista##"
      ],
      "metadata": {
        "id": "TuyvAw3U6dnh"
      }
    },
    {
      "cell_type": "code",
      "source": [
        "lista1.append(4)    #añade al final\n",
        "lista1.insert(2,3)  #añade en la (posición, valor)\n",
        "lista1"
      ],
      "metadata": {
        "colab": {
          "base_uri": "https://localhost:8080/"
        },
        "id": "uzd9VKE3yrI2",
        "outputId": "44dfe385-5774-43be-a996-299b8c72d4ad"
      },
      "execution_count": 13,
      "outputs": [
        {
          "output_type": "execute_result",
          "data": {
            "text/plain": [
              "[2, '2', 3, 'dos', 4]"
            ]
          },
          "metadata": {},
          "execution_count": 13
        }
      ]
    },
    {
      "cell_type": "code",
      "source": [
        "lista1.remove(4)  #Borra por coincidencia\n",
        "del lista1[1]     #Borra por posición\n",
        "lista1.pop()"
      ],
      "metadata": {
        "colab": {
          "base_uri": "https://localhost:8080/",
          "height": 35
        },
        "id": "G3zx59uQyuCr",
        "outputId": "a505f67f-8247-4ae0-aa55-8a71715c9089"
      },
      "execution_count": 9,
      "outputs": [
        {
          "output_type": "execute_result",
          "data": {
            "text/plain": [
              "'dos'"
            ],
            "application/vnd.google.colaboratory.intrinsic+json": {
              "type": "string"
            }
          },
          "metadata": {},
          "execution_count": 9
        }
      ]
    },
    {
      "cell_type": "code",
      "source": [
        "lista1"
      ],
      "metadata": {
        "colab": {
          "base_uri": "https://localhost:8080/"
        },
        "id": "YoCUIyEGyy49",
        "outputId": "e0dce8af-2626-4bbc-b567-5ca717d6175b"
      },
      "execution_count": 10,
      "outputs": [
        {
          "output_type": "execute_result",
          "data": {
            "text/plain": [
              "[2, '2']"
            ]
          },
          "metadata": {},
          "execution_count": 10
        }
      ]
    },
    {
      "cell_type": "code",
      "source": [
        "lista1.insert?"
      ],
      "metadata": {
        "id": "LM2eT56UzHtY"
      },
      "execution_count": 22,
      "outputs": []
    },
    {
      "cell_type": "markdown",
      "source": [
        "##Ciclo for en python##"
      ],
      "metadata": {
        "id": "uFWb4-lw6lcq"
      }
    },
    {
      "cell_type": "code",
      "source": [
        "for i in lista1:\n",
        "  print(i)"
      ],
      "metadata": {
        "colab": {
          "base_uri": "https://localhost:8080/"
        },
        "id": "7hMeNbAY1kdW",
        "outputId": "3ad832a2-de9d-4bfd-9012-3dce20de7b70"
      },
      "execution_count": 26,
      "outputs": [
        {
          "output_type": "stream",
          "name": "stdout",
          "text": [
            "2\n",
            "2\n",
            "3\n",
            "dos\n",
            "4\n"
          ]
        }
      ]
    },
    {
      "cell_type": "code",
      "source": [
        "for i in range(len(lista1)):\n",
        "  print(i, lista1[i])"
      ],
      "metadata": {
        "colab": {
          "base_uri": "https://localhost:8080/"
        },
        "id": "y3b35PfW1r0a",
        "outputId": "db618778-01c9-4330-cb67-ea91ab83cc66"
      },
      "execution_count": 28,
      "outputs": [
        {
          "output_type": "stream",
          "name": "stdout",
          "text": [
            "0 2\n",
            "1 2\n",
            "2 3\n",
            "3 dos\n",
            "4 4\n"
          ]
        }
      ]
    },
    {
      "cell_type": "code",
      "source": [
        "for i, item in enumerate(lista1):\n",
        "  print(i, item)"
      ],
      "metadata": {
        "colab": {
          "base_uri": "https://localhost:8080/"
        },
        "id": "hqnXauBO1vvn",
        "outputId": "4f156444-1206-4e0e-f46f-6ae7736cb472"
      },
      "execution_count": 29,
      "outputs": [
        {
          "output_type": "stream",
          "name": "stdout",
          "text": [
            "0 2\n",
            "1 2\n",
            "2 3\n",
            "3 dos\n",
            "4 4\n"
          ]
        }
      ]
    },
    {
      "cell_type": "code",
      "source": [
        "?enumerate"
      ],
      "metadata": {
        "id": "BwcamEKR2prU"
      },
      "execution_count": 36,
      "outputs": []
    },
    {
      "cell_type": "markdown",
      "source": [
        "##Array en python##"
      ],
      "metadata": {
        "id": "Z564hJxC6o36"
      }
    },
    {
      "cell_type": "markdown",
      "source": [
        "Para crear un array en python debemos seleccionar qué tipo de array vamos a crear. A priori, podemos encontrar tipos de array en librerias como array, numpy y scipy"
      ],
      "metadata": {
        "id": "XNd7cSOT6rUL"
      }
    },
    {
      "cell_type": "code",
      "source": [
        "# array, numpy & scipy son las librerías para definir un arreglo"
      ],
      "metadata": {
        "id": "v-nf4lik21Ap"
      },
      "execution_count": 37,
      "outputs": []
    },
    {
      "cell_type": "code",
      "source": [
        "import array as ar\n",
        "ar.array?"
      ],
      "metadata": {
        "id": "Q4n5Tu-34A6f"
      },
      "execution_count": 38,
      "outputs": []
    },
    {
      "cell_type": "code",
      "source": [
        "arreglo1 = ar.array(\"i\", [1,2,3])\n",
        "arreglo2 = ar.array(\"i\", [1,2,3])"
      ],
      "metadata": {
        "id": "aiar0R1X4BxK"
      },
      "execution_count": 44,
      "outputs": []
    },
    {
      "cell_type": "code",
      "source": [
        "arreglo1*arreglo2   #no podemos multiplicar arreglos con la librería de array"
      ],
      "metadata": {
        "colab": {
          "base_uri": "https://localhost:8080/",
          "height": 175
        },
        "id": "lT6PNr2S4GpU",
        "outputId": "b0481485-00f4-468f-c9f4-2a393cb41b5a"
      },
      "execution_count": 45,
      "outputs": [
        {
          "output_type": "error",
          "ename": "TypeError",
          "evalue": "ignored",
          "traceback": [
            "\u001b[0;31m---------------------------------------------------------------------------\u001b[0m",
            "\u001b[0;31mTypeError\u001b[0m                                 Traceback (most recent call last)",
            "\u001b[0;32m<ipython-input-45-e791d95a8b42>\u001b[0m in \u001b[0;36m<cell line: 1>\u001b[0;34m()\u001b[0m\n\u001b[0;32m----> 1\u001b[0;31m \u001b[0marreglo1\u001b[0m\u001b[0;34m*\u001b[0m\u001b[0marreglo2\u001b[0m\u001b[0;34m\u001b[0m\u001b[0;34m\u001b[0m\u001b[0m\n\u001b[0m",
            "\u001b[0;31mTypeError\u001b[0m: can't multiply sequence by non-int of type 'array.array'"
          ]
        }
      ]
    },
    {
      "cell_type": "code",
      "source": [
        "import numpy as np\n",
        "np.array?"
      ],
      "metadata": {
        "id": "wsC1rixj4TUc"
      },
      "execution_count": 47,
      "outputs": []
    },
    {
      "cell_type": "code",
      "source": [
        "nparr1 = np.array([1,2,3])\n",
        "nparr2 = np.array([4,5,6])\n",
        "nparr1*nparr2"
      ],
      "metadata": {
        "colab": {
          "base_uri": "https://localhost:8080/"
        },
        "id": "VzrG4SP75bWs",
        "outputId": "33b47a2f-d8f1-47db-a759-02b9fe81df0f"
      },
      "execution_count": 48,
      "outputs": [
        {
          "output_type": "execute_result",
          "data": {
            "text/plain": [
              "array([ 4, 10, 18])"
            ]
          },
          "metadata": {},
          "execution_count": 48
        }
      ]
    },
    {
      "cell_type": "code",
      "source": [
        "np.dot(nparr1,nparr2)"
      ],
      "metadata": {
        "colab": {
          "base_uri": "https://localhost:8080/"
        },
        "id": "G87dS6di5_TE",
        "outputId": "9a3cc718-dd77-4a33-d9d9-4c15c0b4891c"
      },
      "execution_count": 49,
      "outputs": [
        {
          "output_type": "execute_result",
          "data": {
            "text/plain": [
              "32"
            ]
          },
          "metadata": {},
          "execution_count": 49
        }
      ]
    },
    {
      "cell_type": "code",
      "source": [],
      "metadata": {
        "id": "n608M7f06Dbm"
      },
      "execution_count": null,
      "outputs": []
    }
  ]
}